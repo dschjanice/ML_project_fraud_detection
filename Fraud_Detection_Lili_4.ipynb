{
 "cells": [
  {
   "cell_type": "code",
   "execution_count": 23,
   "metadata": {},
   "outputs": [],
   "source": [
    "import pandas as pd\n",
    "import numpy as np\n",
    "import matplotlib.pyplot as plt\n",
    "import lightgbm\n",
    "from lightgbm import LGBMClassifier\n",
    "\n",
    "from sklearn.preprocessing import OneHotEncoder\n",
    "from sklearn.model_selection import train_test_split\n",
    "from sklearn.metrics import roc_auc_score\n",
    "\n",
    "import warnings\n",
    "warnings.simplefilter('ignore')\n",
    "\n",
    "## read data \n",
    "\n",
    "client_train = pd.read_csv('data/client_train.csv')\n",
    "invoice_train = pd.read_csv('data/invoice_train.csv')\n",
    "client_test = pd.read_csv('data/client_test.csv')\n",
    "invoice_test = pd.read_csv('data/invoice_test.csv')"
   ]
  },
  {
   "cell_type": "code",
   "execution_count": 24,
   "metadata": {},
   "outputs": [],
   "source": [
    "## deal with categorical features\n",
    "\n",
    "# 'month'\n",
    "invoice_train['invoice_date'] = pd.to_datetime(invoice_train['invoice_date'])\n",
    "invoice_train['month'] = invoice_train['invoice_date'].dt.month\n"
   ]
  },
  {
   "cell_type": "code",
   "execution_count": 25,
   "metadata": {},
   "outputs": [],
   "source": [
    "\n",
    "# 'counter_statue'\n",
    "invoice_train['counter_statue'] = invoice_train['counter_statue'].astype(str)\n",
    "filtered_values = ['0', '1', '2', '3', '4', '5']\n",
    "invoice_train = invoice_train[invoice_train['counter_statue'].isin(filtered_values)]\n",
    "\n",
    "# 'client_id', 'counter_type', 'counter_number' -> 'counter_changed'\n",
    "\n",
    "# offset comparison for Counter_number\n",
    "invoice_train = invoice_train.sort_values(['client_id', 'counter_type', 'counter_number','invoice_date'])\n",
    "\n",
    "invoice_train['counter_changed'] = np.where(\n",
    "    (invoice_train['client_id'] == invoice_train['client_id'].shift(1)) &\n",
    "    (invoice_train['counter_type'] == invoice_train['counter_type'].shift(1)) &\n",
    "    (invoice_train['counter_number'] != invoice_train['counter_number'].shift(1)), 1, 0)\n",
    "\n",
    "# 'tariif_type', 'reading_remarque', "
   ]
  },
  {
   "cell_type": "code",
   "execution_count": 26,
   "metadata": {},
   "outputs": [],
   "source": [
    "\n",
    "## deal with numerical features\n",
    "\n",
    "# 'coeficient'\n",
    "\n",
    "# 'months_number'\n",
    "#invoice_train = invoice_train.query('months_number <= 24')\n",
    "\n",
    "# 'old_index', 'new_index' -> 'consumption', 'consumption_ave'\n",
    "# 'consommation_level_1','consommation_level_2', 'consommation_level_3', 'consommation_level_4'\n",
    "# -> 'consommation_sum', 'consommation_ave', 'sonconsommation_not_consom', 'sonconsommation_less_0'\n",
    "\n",
    "invoice_train['consumption'] = invoice_train['new_index'] - invoice_train['old_index']\n",
    "invoice_train['consumption_ave'] = invoice_train['consumption'] / invoice_train['months_number']\n",
    "\n",
    "invoice_train.eval('consommation_sum = consommation_level_1 + consommation_level_2 + consommation_level_3 + consommation_level_4', inplace=True)\n",
    "invoice_train.eval('consommation_ave = consommation_sum / months_number', inplace=True)\n",
    "\n",
    "invoice_train['consump_not_consom'] = np.where(invoice_train['consumption'] == invoice_train['consommation_sum'], 0, 1)\n",
    "invoice_train['consump_less_0'] = np.where(invoice_train['consumption'] <= 0, 1, 0)\n",
    "\n"
   ]
  },
  {
   "cell_type": "code",
   "execution_count": 27,
   "metadata": {},
   "outputs": [],
   "source": [
    "# all categorical features\n",
    "#cat_features = ['month', 'counter_statue', 'tarif_type', 'reading_remarque', 'counter_type', 'counter_number']\n",
    "cat_features = ['month', 'counter_statue', 'counter_type', 'counter_changed', 'consump_not_consom', 'consump_less_0']"
   ]
  },
  {
   "cell_type": "code",
   "execution_count": 28,
   "metadata": {},
   "outputs": [],
   "source": [
    "new_cat_features = []\n",
    "\n",
    "# one-hot encoding\n",
    "for cat_feature in cat_features:\n",
    "    encoder = OneHotEncoder()\n",
    "    encoder.fit(invoice_train[cat_feature].values.reshape(-1, 1))\n",
    "    tmp = encoder.transform(invoice_train[cat_feature].values.reshape(-1, 1)).toarray()\n",
    "    new_columns = [(cat_feature + '_' + str(i)) for i in range(tmp.shape[1])]\n",
    "    new_cat_features.extend(new_columns)\n",
    "    tmp = pd.DataFrame(tmp, columns=new_columns)\n",
    "    invoice_train = pd.concat([invoice_train, tmp], axis=1)\n",
    "    invoice_train.drop(cat_feature, axis=1, inplace=True)"
   ]
  },
  {
   "cell_type": "code",
   "execution_count": 29,
   "metadata": {},
   "outputs": [],
   "source": [
    "\n",
    "# aggregate features by client_id\n",
    "def aggregate_by_client_id(invoice_data, cat_features):\n",
    "    aggs = {\n",
    "        #'consommation_level_1': ['min', 'max'], ## add max, min, sum?\n",
    "        #'consommation_level_2': ['mean'],\n",
    "        #'consommation_level_3': ['mean'],\n",
    "        #'consommation_level_4': ['mean'],\n",
    "        'consommation_sum': ['max', 'min', 'mean'],\n",
    "        'consommation_ave': ['max', 'min', 'mean'],\n",
    "        'months_number': ['max', 'min', 'mean'],\n",
    "        'consumption': ['sum', 'max', 'min', 'mean'],\n",
    "        'consumption_ave': ['max', 'min', 'mean']\n",
    "    }\n",
    "\n",
    "    for cat in cat_features:\n",
    "        aggs[cat] = ['count'] # delete nunique\n",
    "\n",
    "    agg_trans = invoice_data.groupby(['client_id']).agg(aggs)\n",
    "    agg_trans.columns = ['_'.join(col).strip() for col in agg_trans.columns.values]\n",
    "    agg_trans.reset_index(inplace=True)\n",
    "\n",
    "    df = invoice_data.groupby('client_id').size().reset_index(name='transactions_count')\n",
    "    \n",
    "    return pd.merge(df, agg_trans, on='client_id', how='left')\n"
   ]
  },
  {
   "cell_type": "code",
   "execution_count": 30,
   "metadata": {},
   "outputs": [],
   "source": [
    "invoice_train_aggregated = aggregate_by_client_id(invoice_train, new_cat_features)"
   ]
  },
  {
   "cell_type": "code",
   "execution_count": 31,
   "metadata": {},
   "outputs": [],
   "source": [
    "## how to combine it effectively? do EDV and decide whether to keep it\n",
    "#invoice_train_aggregated = invoice_train_aggregated.eval('consommation_level_diff = cosommation_level_1_max - consommation_level_1_min', inplace=True)\n",
    "#invoice_train_aggregated.drop(['consommation_level_1_max', 'consommation_level_1_min'], axis=1, inplace=True)"
   ]
  },
  {
   "cell_type": "markdown",
   "metadata": {},
   "source": []
  },
  {
   "cell_type": "code",
   "execution_count": 32,
   "metadata": {},
   "outputs": [
    {
     "data": {
      "text/html": [
       "<div>\n",
       "<style scoped>\n",
       "    .dataframe tbody tr th:only-of-type {\n",
       "        vertical-align: middle;\n",
       "    }\n",
       "\n",
       "    .dataframe tbody tr th {\n",
       "        vertical-align: top;\n",
       "    }\n",
       "\n",
       "    .dataframe thead th {\n",
       "        text-align: right;\n",
       "    }\n",
       "</style>\n",
       "<table border=\"1\" class=\"dataframe\">\n",
       "  <thead>\n",
       "    <tr style=\"text-align: right;\">\n",
       "      <th></th>\n",
       "      <th>client_id</th>\n",
       "      <th>transactions_count</th>\n",
       "      <th>consommation_sum_max</th>\n",
       "      <th>consommation_sum_min</th>\n",
       "      <th>consommation_sum_mean</th>\n",
       "      <th>consommation_ave_max</th>\n",
       "      <th>consommation_ave_min</th>\n",
       "      <th>consommation_ave_mean</th>\n",
       "      <th>months_number_max</th>\n",
       "      <th>months_number_min</th>\n",
       "      <th>...</th>\n",
       "      <th>counter_type_2_count</th>\n",
       "      <th>counter_changed_0_count</th>\n",
       "      <th>counter_changed_1_count</th>\n",
       "      <th>counter_changed_2_count</th>\n",
       "      <th>consump_not_consom_0_count</th>\n",
       "      <th>consump_not_consom_1_count</th>\n",
       "      <th>consump_not_consom_2_count</th>\n",
       "      <th>consump_less_0_0_count</th>\n",
       "      <th>consump_less_0_1_count</th>\n",
       "      <th>consump_less_0_2_count</th>\n",
       "    </tr>\n",
       "  </thead>\n",
       "  <tbody>\n",
       "    <tr>\n",
       "      <th>0</th>\n",
       "      <td>train_Client_0</td>\n",
       "      <td>35</td>\n",
       "      <td>1386.0</td>\n",
       "      <td>38.0</td>\n",
       "      <td>362.971429</td>\n",
       "      <td>346.500000</td>\n",
       "      <td>19.0</td>\n",
       "      <td>82.503571</td>\n",
       "      <td>12.0</td>\n",
       "      <td>2.0</td>\n",
       "      <td>...</td>\n",
       "      <td>35</td>\n",
       "      <td>35</td>\n",
       "      <td>35</td>\n",
       "      <td>35</td>\n",
       "      <td>35</td>\n",
       "      <td>35</td>\n",
       "      <td>35</td>\n",
       "      <td>35</td>\n",
       "      <td>35</td>\n",
       "      <td>35</td>\n",
       "    </tr>\n",
       "    <tr>\n",
       "      <th>1</th>\n",
       "      <td>train_Client_1</td>\n",
       "      <td>37</td>\n",
       "      <td>1207.0</td>\n",
       "      <td>190.0</td>\n",
       "      <td>557.540541</td>\n",
       "      <td>194.000000</td>\n",
       "      <td>81.5</td>\n",
       "      <td>129.405405</td>\n",
       "      <td>8.0</td>\n",
       "      <td>2.0</td>\n",
       "      <td>...</td>\n",
       "      <td>37</td>\n",
       "      <td>37</td>\n",
       "      <td>37</td>\n",
       "      <td>37</td>\n",
       "      <td>37</td>\n",
       "      <td>37</td>\n",
       "      <td>37</td>\n",
       "      <td>37</td>\n",
       "      <td>37</td>\n",
       "      <td>37</td>\n",
       "    </tr>\n",
       "    <tr>\n",
       "      <th>2</th>\n",
       "      <td>train_Client_10</td>\n",
       "      <td>18</td>\n",
       "      <td>3082.0</td>\n",
       "      <td>188.0</td>\n",
       "      <td>836.500000</td>\n",
       "      <td>256.833333</td>\n",
       "      <td>47.0</td>\n",
       "      <td>126.972222</td>\n",
       "      <td>12.0</td>\n",
       "      <td>4.0</td>\n",
       "      <td>...</td>\n",
       "      <td>18</td>\n",
       "      <td>18</td>\n",
       "      <td>18</td>\n",
       "      <td>18</td>\n",
       "      <td>18</td>\n",
       "      <td>18</td>\n",
       "      <td>18</td>\n",
       "      <td>18</td>\n",
       "      <td>18</td>\n",
       "      <td>18</td>\n",
       "    </tr>\n",
       "    <tr>\n",
       "      <th>3</th>\n",
       "      <td>train_Client_100</td>\n",
       "      <td>20</td>\n",
       "      <td>15.0</td>\n",
       "      <td>0.0</td>\n",
       "      <td>1.200000</td>\n",
       "      <td>3.750000</td>\n",
       "      <td>0.0</td>\n",
       "      <td>0.300000</td>\n",
       "      <td>6.0</td>\n",
       "      <td>4.0</td>\n",
       "      <td>...</td>\n",
       "      <td>20</td>\n",
       "      <td>20</td>\n",
       "      <td>20</td>\n",
       "      <td>20</td>\n",
       "      <td>20</td>\n",
       "      <td>20</td>\n",
       "      <td>20</td>\n",
       "      <td>20</td>\n",
       "      <td>20</td>\n",
       "      <td>20</td>\n",
       "    </tr>\n",
       "    <tr>\n",
       "      <th>4</th>\n",
       "      <td>train_Client_1000</td>\n",
       "      <td>14</td>\n",
       "      <td>2382.0</td>\n",
       "      <td>124.0</td>\n",
       "      <td>922.642857</td>\n",
       "      <td>595.500000</td>\n",
       "      <td>62.0</td>\n",
       "      <td>237.910714</td>\n",
       "      <td>4.0</td>\n",
       "      <td>2.0</td>\n",
       "      <td>...</td>\n",
       "      <td>14</td>\n",
       "      <td>14</td>\n",
       "      <td>14</td>\n",
       "      <td>14</td>\n",
       "      <td>14</td>\n",
       "      <td>14</td>\n",
       "      <td>14</td>\n",
       "      <td>14</td>\n",
       "      <td>14</td>\n",
       "      <td>14</td>\n",
       "    </tr>\n",
       "  </tbody>\n",
       "</table>\n",
       "<p>5 rows × 49 columns</p>\n",
       "</div>"
      ],
      "text/plain": [
       "           client_id  transactions_count  consommation_sum_max   \n",
       "0     train_Client_0                  35                1386.0  \\\n",
       "1     train_Client_1                  37                1207.0   \n",
       "2    train_Client_10                  18                3082.0   \n",
       "3   train_Client_100                  20                  15.0   \n",
       "4  train_Client_1000                  14                2382.0   \n",
       "\n",
       "   consommation_sum_min  consommation_sum_mean  consommation_ave_max   \n",
       "0                  38.0             362.971429            346.500000  \\\n",
       "1                 190.0             557.540541            194.000000   \n",
       "2                 188.0             836.500000            256.833333   \n",
       "3                   0.0               1.200000              3.750000   \n",
       "4                 124.0             922.642857            595.500000   \n",
       "\n",
       "   consommation_ave_min  consommation_ave_mean  months_number_max   \n",
       "0                  19.0              82.503571               12.0  \\\n",
       "1                  81.5             129.405405                8.0   \n",
       "2                  47.0             126.972222               12.0   \n",
       "3                   0.0               0.300000                6.0   \n",
       "4                  62.0             237.910714                4.0   \n",
       "\n",
       "   months_number_min  ...  counter_type_2_count  counter_changed_0_count   \n",
       "0                2.0  ...                    35                       35  \\\n",
       "1                2.0  ...                    37                       37   \n",
       "2                4.0  ...                    18                       18   \n",
       "3                4.0  ...                    20                       20   \n",
       "4                2.0  ...                    14                       14   \n",
       "\n",
       "   counter_changed_1_count  counter_changed_2_count   \n",
       "0                       35                       35  \\\n",
       "1                       37                       37   \n",
       "2                       18                       18   \n",
       "3                       20                       20   \n",
       "4                       14                       14   \n",
       "\n",
       "   consump_not_consom_0_count  consump_not_consom_1_count   \n",
       "0                          35                          35  \\\n",
       "1                          37                          37   \n",
       "2                          18                          18   \n",
       "3                          20                          20   \n",
       "4                          14                          14   \n",
       "\n",
       "   consump_not_consom_2_count  consump_less_0_0_count  consump_less_0_1_count   \n",
       "0                          35                      35                      35  \\\n",
       "1                          37                      37                      37   \n",
       "2                          18                      18                      18   \n",
       "3                          20                      20                      20   \n",
       "4                          14                      14                      14   \n",
       "\n",
       "   consump_less_0_2_count  \n",
       "0                      35  \n",
       "1                      37  \n",
       "2                      18  \n",
       "3                      20  \n",
       "4                      14  \n",
       "\n",
       "[5 rows x 49 columns]"
      ]
     },
     "execution_count": 32,
     "metadata": {},
     "output_type": "execute_result"
    }
   ],
   "source": [
    "invoice_train_aggregated.head()"
   ]
  },
  {
   "cell_type": "code",
   "execution_count": 33,
   "metadata": {},
   "outputs": [
    {
     "data": {
      "text/plain": [
       "Index(['client_id', 'transactions_count', 'consommation_sum_max',\n",
       "       'consommation_sum_min', 'consommation_sum_mean', 'consommation_ave_max',\n",
       "       'consommation_ave_min', 'consommation_ave_mean', 'months_number_max',\n",
       "       'months_number_min', 'months_number_mean', 'consumption_sum',\n",
       "       'consumption_max', 'consumption_min', 'consumption_mean',\n",
       "       'consumption_ave_max', 'consumption_ave_min', 'consumption_ave_mean',\n",
       "       'month_0_count', 'month_1_count', 'month_2_count', 'month_3_count',\n",
       "       'month_4_count', 'month_5_count', 'month_6_count', 'month_7_count',\n",
       "       'month_8_count', 'month_9_count', 'month_10_count', 'month_11_count',\n",
       "       'counter_statue_0_count', 'counter_statue_1_count',\n",
       "       'counter_statue_2_count', 'counter_statue_3_count',\n",
       "       'counter_statue_4_count', 'counter_statue_5_count',\n",
       "       'counter_statue_6_count', 'counter_type_0_count',\n",
       "       'counter_type_1_count', 'counter_type_2_count',\n",
       "       'counter_changed_0_count', 'counter_changed_1_count',\n",
       "       'counter_changed_2_count', 'consump_not_consom_0_count',\n",
       "       'consump_not_consom_1_count', 'consump_not_consom_2_count',\n",
       "       'consump_less_0_0_count', 'consump_less_0_1_count',\n",
       "       'consump_less_0_2_count'],\n",
       "      dtype='object')"
      ]
     },
     "execution_count": 33,
     "metadata": {},
     "output_type": "execute_result"
    }
   ],
   "source": [
    "invoice_train_aggregated.columns"
   ]
  },
  {
   "cell_type": "code",
   "execution_count": 34,
   "metadata": {},
   "outputs": [],
   "source": [
    "invoice_train_aggregated = invoice_train_aggregated.merge(client_train, on='client_id', how='left')"
   ]
  },
  {
   "cell_type": "code",
   "execution_count": 35,
   "metadata": {},
   "outputs": [
    {
     "data": {
      "text/plain": [
       "Index(['client_id', 'transactions_count', 'consommation_sum_max',\n",
       "       'consommation_sum_min', 'consommation_sum_mean', 'consommation_ave_max',\n",
       "       'consommation_ave_min', 'consommation_ave_mean', 'months_number_max',\n",
       "       'months_number_min', 'months_number_mean', 'consumption_sum',\n",
       "       'consumption_max', 'consumption_min', 'consumption_mean',\n",
       "       'consumption_ave_max', 'consumption_ave_min', 'consumption_ave_mean',\n",
       "       'month_0_count', 'month_1_count', 'month_2_count', 'month_3_count',\n",
       "       'month_4_count', 'month_5_count', 'month_6_count', 'month_7_count',\n",
       "       'month_8_count', 'month_9_count', 'month_10_count', 'month_11_count',\n",
       "       'counter_statue_0_count', 'counter_statue_1_count',\n",
       "       'counter_statue_2_count', 'counter_statue_3_count',\n",
       "       'counter_statue_4_count', 'counter_statue_5_count',\n",
       "       'counter_statue_6_count', 'counter_type_0_count',\n",
       "       'counter_type_1_count', 'counter_type_2_count',\n",
       "       'counter_changed_0_count', 'counter_changed_1_count',\n",
       "       'counter_changed_2_count', 'consump_not_consom_0_count',\n",
       "       'consump_not_consom_1_count', 'consump_not_consom_2_count',\n",
       "       'consump_less_0_0_count', 'consump_less_0_1_count',\n",
       "       'consump_less_0_2_count', 'disrict', 'client_catg', 'region',\n",
       "       'creation_date', 'target'],\n",
       "      dtype='object')"
      ]
     },
     "execution_count": 35,
     "metadata": {},
     "output_type": "execute_result"
    }
   ],
   "source": [
    "invoice_train_aggregated.columns"
   ]
  },
  {
   "cell_type": "markdown",
   "metadata": {},
   "source": [
    "Client_train 裡 cat data 未處理one hot encoder\n",
    "↓ hasn't been adjusted yet"
   ]
  },
  {
   "cell_type": "code",
   "execution_count": 36,
   "metadata": {},
   "outputs": [],
   "source": [
    "columns_to_use = invoice_train_aggregated.columns.tolist()\n",
    "columns_to_use = [col for col in columns_to_use if col not in ['client_id', 'client_catg', 'creation_date', 'target']]\n",
    "#X_train = invoice_train_aggregated[columns_to_use]\n",
    "#y_train = invoice_train_aggregated['target']"
   ]
  },
  {
   "cell_type": "code",
   "execution_count": 37,
   "metadata": {},
   "outputs": [],
   "source": [
    "#X_train.shape, y_train.shape"
   ]
  },
  {
   "cell_type": "code",
   "execution_count": 38,
   "metadata": {},
   "outputs": [],
   "source": [
    "X = invoice_train_aggregated[columns_to_use]\n",
    "y = invoice_train_aggregated['target']\n",
    "\n",
    "X_train, X_test, y_train, y_test = train_test_split(X, y, test_size=0.2, random_state=2019)"
   ]
  },
  {
   "cell_type": "code",
   "execution_count": 39,
   "metadata": {},
   "outputs": [
    {
     "name": "stdout",
     "output_type": "stream",
     "text": [
      "[LightGBM] [Info] Number of positive: 6094, number of negative: 102298\n",
      "[LightGBM] [Info] Auto-choosing col-wise multi-threading, the overhead of testing was 0.011250 seconds.\n",
      "You can set `force_col_wise=true` to remove the overhead.\n",
      "[LightGBM] [Info] Total Bins 10144\n",
      "[LightGBM] [Info] Number of data points in the train set: 108392, number of used features: 50\n",
      "[LightGBM] [Info] [binary:BoostFromScore]: pavg=0.056222 -> initscore=-2.820585\n",
      "[LightGBM] [Info] Start training from score -2.820585\n"
     ]
    },
    {
     "data": {
      "text/html": [
       "<style>#sk-container-id-2 {color: black;background-color: white;}#sk-container-id-2 pre{padding: 0;}#sk-container-id-2 div.sk-toggleable {background-color: white;}#sk-container-id-2 label.sk-toggleable__label {cursor: pointer;display: block;width: 100%;margin-bottom: 0;padding: 0.3em;box-sizing: border-box;text-align: center;}#sk-container-id-2 label.sk-toggleable__label-arrow:before {content: \"▸\";float: left;margin-right: 0.25em;color: #696969;}#sk-container-id-2 label.sk-toggleable__label-arrow:hover:before {color: black;}#sk-container-id-2 div.sk-estimator:hover label.sk-toggleable__label-arrow:before {color: black;}#sk-container-id-2 div.sk-toggleable__content {max-height: 0;max-width: 0;overflow: hidden;text-align: left;background-color: #f0f8ff;}#sk-container-id-2 div.sk-toggleable__content pre {margin: 0.2em;color: black;border-radius: 0.25em;background-color: #f0f8ff;}#sk-container-id-2 input.sk-toggleable__control:checked~div.sk-toggleable__content {max-height: 200px;max-width: 100%;overflow: auto;}#sk-container-id-2 input.sk-toggleable__control:checked~label.sk-toggleable__label-arrow:before {content: \"▾\";}#sk-container-id-2 div.sk-estimator input.sk-toggleable__control:checked~label.sk-toggleable__label {background-color: #d4ebff;}#sk-container-id-2 div.sk-label input.sk-toggleable__control:checked~label.sk-toggleable__label {background-color: #d4ebff;}#sk-container-id-2 input.sk-hidden--visually {border: 0;clip: rect(1px 1px 1px 1px);clip: rect(1px, 1px, 1px, 1px);height: 1px;margin: -1px;overflow: hidden;padding: 0;position: absolute;width: 1px;}#sk-container-id-2 div.sk-estimator {font-family: monospace;background-color: #f0f8ff;border: 1px dotted black;border-radius: 0.25em;box-sizing: border-box;margin-bottom: 0.5em;}#sk-container-id-2 div.sk-estimator:hover {background-color: #d4ebff;}#sk-container-id-2 div.sk-parallel-item::after {content: \"\";width: 100%;border-bottom: 1px solid gray;flex-grow: 1;}#sk-container-id-2 div.sk-label:hover label.sk-toggleable__label {background-color: #d4ebff;}#sk-container-id-2 div.sk-serial::before {content: \"\";position: absolute;border-left: 1px solid gray;box-sizing: border-box;top: 0;bottom: 0;left: 50%;z-index: 0;}#sk-container-id-2 div.sk-serial {display: flex;flex-direction: column;align-items: center;background-color: white;padding-right: 0.2em;padding-left: 0.2em;position: relative;}#sk-container-id-2 div.sk-item {position: relative;z-index: 1;}#sk-container-id-2 div.sk-parallel {display: flex;align-items: stretch;justify-content: center;background-color: white;position: relative;}#sk-container-id-2 div.sk-item::before, #sk-container-id-2 div.sk-parallel-item::before {content: \"\";position: absolute;border-left: 1px solid gray;box-sizing: border-box;top: 0;bottom: 0;left: 50%;z-index: -1;}#sk-container-id-2 div.sk-parallel-item {display: flex;flex-direction: column;z-index: 1;position: relative;background-color: white;}#sk-container-id-2 div.sk-parallel-item:first-child::after {align-self: flex-end;width: 50%;}#sk-container-id-2 div.sk-parallel-item:last-child::after {align-self: flex-start;width: 50%;}#sk-container-id-2 div.sk-parallel-item:only-child::after {width: 0;}#sk-container-id-2 div.sk-dashed-wrapped {border: 1px dashed gray;margin: 0 0.4em 0.5em 0.4em;box-sizing: border-box;padding-bottom: 0.4em;background-color: white;}#sk-container-id-2 div.sk-label label {font-family: monospace;font-weight: bold;display: inline-block;line-height: 1.2em;}#sk-container-id-2 div.sk-label-container {text-align: center;}#sk-container-id-2 div.sk-container {/* jupyter's `normalize.less` sets `[hidden] { display: none; }` but bootstrap.min.css set `[hidden] { display: none !important; }` so we also need the `!important` here to be able to override the default hidden behavior on the sphinx rendered scikit-learn.org. See: https://github.com/scikit-learn/scikit-learn/issues/21755 */display: inline-block !important;position: relative;}#sk-container-id-2 div.sk-text-repr-fallback {display: none;}</style><div id=\"sk-container-id-2\" class=\"sk-top-container\"><div class=\"sk-text-repr-fallback\"><pre>LGBMClassifier(num_iterations=500)</pre><b>In a Jupyter environment, please rerun this cell to show the HTML representation or trust the notebook. <br />On GitHub, the HTML representation is unable to render, please try loading this page with nbviewer.org.</b></div><div class=\"sk-container\" hidden><div class=\"sk-item\"><div class=\"sk-estimator sk-toggleable\"><input class=\"sk-toggleable__control sk-hidden--visually\" id=\"sk-estimator-id-2\" type=\"checkbox\" checked><label for=\"sk-estimator-id-2\" class=\"sk-toggleable__label sk-toggleable__label-arrow\">LGBMClassifier</label><div class=\"sk-toggleable__content\"><pre>LGBMClassifier(num_iterations=500)</pre></div></div></div></div></div>"
      ],
      "text/plain": [
       "LGBMClassifier(num_iterations=500)"
      ]
     },
     "execution_count": 39,
     "metadata": {},
     "output_type": "execute_result"
    }
   ],
   "source": [
    "model = LGBMClassifier(boosting_type='gbdt', num_iterations=500)\n",
    "model.fit(X_train, y_train)"
   ]
  },
  {
   "cell_type": "code",
   "execution_count": 40,
   "metadata": {},
   "outputs": [],
   "source": [
    "train_pred = model.predict(X_train)\n",
    "train_probs = model.predict_proba(X_train)[:, 1]\n",
    "\n",
    "test_pred = model.predict(X_test)\n",
    "test_probs = model.predict_proba(X_test)[:, 1]"
   ]
  },
  {
   "cell_type": "markdown",
   "metadata": {},
   "source": [
    "## data for modelling, temporary ↓ 暫時"
   ]
  },
  {
   "cell_type": "code",
   "execution_count": 41,
   "metadata": {},
   "outputs": [],
   "source": [
    "df = invoice_train_aggregated"
   ]
  },
  {
   "cell_type": "code",
   "execution_count": 42,
   "metadata": {},
   "outputs": [],
   "source": [
    "df.to_csv('data/df.csv', index=False)"
   ]
  },
  {
   "cell_type": "code",
   "execution_count": 43,
   "metadata": {},
   "outputs": [
    {
     "data": {
      "image/png": "[encoded data removed]",
      "text/plain": [
       "<Figure size 800x600 with 1 Axes>"
      ]
     },
     "metadata": {},
     "output_type": "display_data"
    }
   ],
   "source": [
    "\n",
    "from sklearn.ensemble import RandomForestClassifier\n",
    "from sklearn.metrics import precision_score, recall_score, roc_auc_score, roc_curve\n",
    "\n",
    "\n",
    "# Plot formatting\n",
    "plt.style.use('fivethirtyeight')\n",
    "plt.rcParams['font.size'] = 18\n",
    "\n",
    "# Calculate false positive rates and true positive rates\n",
    "base_fpr, base_tpr, _ = roc_curve(y_test, [1 for _ in range(len(y_test))])\n",
    "model_fpr, model_tpr, _ = roc_curve(y_test, test_probs)\n",
    "\n",
    "plt.figure(figsize = (8, 6))\n",
    "plt.rcParams['font.size'] = 16\n",
    "    \n",
    "# Plot both curves\n",
    "plt.plot(base_fpr, base_tpr, 'b', label = 'baseline')\n",
    "plt.plot(model_fpr, model_tpr, 'r', label = 'model')\n",
    "plt.legend()\n",
    "plt.xlabel('False Positive Rate'); \n",
    "plt.ylabel('True Positive Rate'); plt.title('ROC Curves')\n",
    "plt.show()\n",
    "\n"
   ]
  },
  {
   "cell_type": "markdown",
   "metadata": {},
   "source": [
    "## test data ↓ 還沒改"
   ]
  },
  {
   "cell_type": "code",
   "execution_count": null,
   "metadata": {},
   "outputs": [],
   "source": [
    "## deal with categorical features\n",
    "\n",
    "# 'month'\n",
    "invoice_train['invoice_date'] = pd.to_datetime(invoice_train['invoice_date'])\n",
    "invoice_train['month'] = invoice_train['invoice_date'].dt.month\n",
    "\n",
    "\n",
    "# 'counter_statue'\n",
    "invoice_train['counter_statue'] = invoice_train['counter_statue'].astype(str)\n",
    "filtered_values = ['0', '1', '2', '3', '4', '5']\n",
    "invoice_train = invoice_train[invoice_train['counter_statue'].isin(filtered_values)]\n",
    "\n",
    "# 'tariif_type', 'reading_remarque', 'counter_type', 'counter_number'\n",
    "\n",
    "\n",
    "# all categorical features\n",
    "#cat_features = ['month', 'counter_statue', 'tarif_type', 'reading_remarque', 'counter_type', 'counter_number']\n",
    "cat_features = ['month', 'counter_statue', 'counter_type']\n",
    "\n",
    "new_cat_features = []\n",
    "\n",
    "# one-hot encoding\n",
    "for cat_feature in cat_features:\n",
    "    encoder = OneHotEncoder()\n",
    "    encoder.fit(invoice_train[cat_feature].values.reshape(-1, 1))\n",
    "    tmp = encoder.transform(invoice_train[cat_feature].values.reshape(-1, 1)).toarray()\n",
    "    new_columns = [(cat_feature + '_' + str(i)) for i in range(tmp.shape[1])]\n",
    "    new_cat_features.extend(new_columns)\n",
    "    tmp = pd.DataFrame(tmp, columns=new_columns)\n",
    "    invoice_train = pd.concat([invoice_train, tmp], axis=1)\n",
    "    invoice_train.drop(cat_feature, axis=1, inplace=True)\n",
    "\n",
    "\n",
    "## deal with numerical features\n",
    "\n",
    "# 'coeficient'\n",
    "\n",
    "# 'months_number'\n",
    "invoice_train = invoice_train.query('months_number <= 24')\n",
    "\n",
    "# 'old_index', 'new_index' -> 'consumption', 'consumption_ave'\n",
    "invoice_train['consumption'] = invoice_train['new_index'] - invoice_train['old_index']\n",
    "invoice_train['consumption_ave'] = invoice_train['consumption'] / invoice_train['months_number']\n",
    "invoice_train = invoice_train.query('consumption >= 0')\n",
    "\n",
    "# 'consommation_level_1','consommation_level_2', 'consommation_level_3', 'consommation_level_4'\n",
    "\n",
    "\n",
    "# aggregate features by client_id\n",
    "def aggregate_by_client_id(invoice_data, cat_features):\n",
    "    aggs = {\n",
    "        'consommation_level_1': ['mean'],\n",
    "        'consommation_level_2': ['mean'],\n",
    "        'consommation_level_3': ['mean'],\n",
    "        'consommation_level_4': ['mean'],\n",
    "        'months_number': ['max', 'min', 'mean'],\n",
    "        'consumption': ['sum', 'max', 'min', 'mean'],\n",
    "        'consumption_ave': ['max', 'min', 'mean']\n",
    "    }\n",
    "\n",
    "    for cat in cat_features:\n",
    "        aggs[cat] = ['count', 'nunique'] \n",
    "\n",
    "    agg_trans = invoice_data.groupby(['client_id']).agg(aggs)\n",
    "    agg_trans.columns = ['_'.join(col).strip() for col in agg_trans.columns.values]\n",
    "    agg_trans.reset_index(inplace=True)\n",
    "\n",
    "    df = invoice_data.groupby('client_id').size().reset_index(name='transactions_count')\n",
    "    \n",
    "    return pd.merge(df, agg_trans, on='client_id', how='left')\n",
    "\n",
    "invoice_train_aggregated = aggregate_by_client_id(invoice_train, new_cat_features)\n",
    "\n",
    "invoice_train_aggregated = invoice_train_aggregated.merge(client_train, on='client_id', how='left')\n",
    "\n",
    "columns_to_use = invoice_train_aggregated.columns.tolist()\n",
    "columns_to_use = [col for col in columns_to_use if col not in ['client_id', 'client_catg', 'creation_date', 'target']]\n",
    "X_train = invoice_train_aggregated[columns_to_use]\n",
    "y_train = invoice_train_aggregated['target']\n",
    "\n",
    "baseline_model = LGBMClassifier(boosting_type='gbdt', num_iterationss=500)\n",
    "baseline_model.fit(X_train, y_train)\n"
   ]
  }
 ],
 "metadata": {
  "kernelspec": {
   "display_name": ".venv",
   "language": "python",
   "name": "python3"
  },
  "language_info": {
   "codemirror_mode": {
    "name": "ipython",
    "version": 3
   },
   "file_extension": ".py",
   "mimetype": "text/x-python",
   "name": "python",
   "nbconvert_exporter": "python",
   "pygments_lexer": "ipython3",
   "version": "3.11.3"
  },
  "orig_nbformat": 4
 },
 "nbformat": 4,
 "nbformat_minor": 2
}
