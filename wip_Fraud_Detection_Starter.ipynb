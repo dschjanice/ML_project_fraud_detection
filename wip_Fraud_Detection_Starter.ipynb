{
  "cells": [
    {
      "cell_type": "markdown",
      "metadata": {
        "id": "RqLQ-hbyb5jH"
      },
      "source": [
        "# Fraud Detection in Electricity and Gas Consumption Challenge\n",
        "\n",
        "This is a simple starter notebook based on the tutorial prepared by Joy Wawira. Check out the article [here](https://zindi.africa/learn/fraud-detection-in-electricity-and-gas-consumption-challenge-tutorial) for a more detailed description of the steps taken.\n",
        "\n",
        "This notebook covers:\n",
        "- Downloading the data straight from Zindi and onto colab\n",
        "- Loading the data and carrying out simple EDA to understand the data and prepare for modelling \n",
        "- Preprocessing the data and feature engineering \n",
        "- Creating a simple LGBM model and predicting on the test set\n",
        "- Prepare submission file and save as csv\n",
        "- Some tips on how to improve model performance and your score"
      ]
    },
    {
      "cell_type": "markdown",
      "metadata": {
        "id": "e6LfbE6PJbmp"
      },
      "source": [
        "# Pre-Requisites"
      ]
    },
    {
      "cell_type": "code",
      "execution_count": 1,
      "metadata": {
        "id": "IYR_e0SMJnpa"
      },
      "outputs": [],
      "source": [
        "DATA_DIR = '/content'\n",
        "\n",
        "TRAIN_DIR = f'{DATA_DIR}/train'\n",
        "TEST_DIR = f'{DATA_DIR}/test'\n",
        "\n",
        "OUTPUT_DIR = f'{DATA_DIR}/output'"
      ]
    },
    {
      "cell_type": "markdown",
      "metadata": {
        "id": "3qArEf-4JhbE"
      },
      "source": [
        "## Download and extract files"
      ]
    },
    {
      "cell_type": "code",
      "execution_count": 2,
      "metadata": {
        "id": "GblUChAfGsaY"
      },
      "outputs": [
        {
          "data": {
            "text/plain": [
              "'\\nimport os.path\\nfrom os import path\\n\\nfor pth in [TRAIN_DIR, TEST_DIR, OUTPUT_DIR]:\\n  if path.exists(pth) == False:\\n    os.mkdir(pth)\\n\\n'"
            ]
          },
          "execution_count": 2,
          "metadata": {},
          "output_type": "execute_result"
        }
      ],
      "source": [
        "'''\n",
        "import os.path\n",
        "from os import path\n",
        "\n",
        "for pth in [TRAIN_DIR, TEST_DIR, OUTPUT_DIR]:\n",
        "  if path.exists(pth) == False:\n",
        "    os.mkdir(pth)\n",
        "\n",
        "'''"
      ]
    },
    {
      "cell_type": "code",
      "execution_count": 3,
      "metadata": {
        "id": "4GEpOaBQGvlB"
      },
      "outputs": [],
      "source": [
        "#only run this cell once, at the start\n",
        "import requests, os\n",
        "\n",
        "train_zip = \"train.zip\"\n",
        "test_zip = \"test.zip\"\n",
        "sample_sub = \"SampleSubmission.csv\""
      ]
    },
    {
      "cell_type": "code",
      "execution_count": 4,
      "metadata": {
        "colab": {
          "base_uri": "https://localhost:8080/"
        },
        "id": "fcqJHBiuIVp8",
        "outputId": "538c087d-1c8e-41df-9457-2a2a315b181a"
      },
      "outputs": [
        {
          "name": "stdout",
          "output_type": "stream",
          "text": [
            "unzip:  cannot find or open /content/train/train.zip, /content/train/train.zip.zip or /content/train/train.zip.ZIP.\n",
            "unzip:  cannot find or open /content/test/test.zip, /content/test/test.zip.zip or /content/test/test.zip.ZIP.\n"
          ]
        }
      ],
      "source": [
        "!unzip \"/content/train/train.zip\" -d \"/content/train/\"\n",
        "!unzip \"/content/test/test.zip\" -d \"/content/test/\""
      ]
    },
    {
      "cell_type": "markdown",
      "metadata": {
        "id": "Jy_tdygDJm-k"
      },
      "source": [
        "# Data Prep"
      ]
    },
    {
      "cell_type": "markdown",
      "metadata": {
        "id": "GKfpS4UVJ4Wj"
      },
      "source": [
        "## Import Libraries"
      ]
    },
    {
      "cell_type": "code",
      "execution_count": 19,
      "metadata": {
        "id": "OJMD_I3EJWP4"
      },
      "outputs": [],
      "source": [
        "import pandas as pd\n",
        "import matplotlib.pyplot as plt\n",
        "import lightgbm\n",
        "from lightgbm import LGBMClassifier\n",
        "\n",
        "import warnings\n",
        "warnings.simplefilter('ignore')\n",
        "\n"
      ]
    },
    {
      "cell_type": "markdown",
      "metadata": {
        "id": "exEGyf6vJ_4T"
      },
      "source": [
        "## Read the Data"
      ]
    },
    {
      "cell_type": "code",
      "execution_count": 6,
      "metadata": {
        "id": "I2oIx7IuKCJm"
      },
      "outputs": [],
      "source": [
        "TRAIN_DIR = \"data/train\"\n",
        "TEST_DIR = \"data/test\"\n",
        "DATA_DIR = \"data\"\n",
        "client_train = pd.read_csv(f'{TRAIN_DIR}/client_train.csv', low_memory=False)\n",
        "invoice_train = pd.read_csv(f'{TRAIN_DIR}/invoice_train.csv', low_memory=False)\n",
        "\n",
        "client_test = pd.read_csv(f'{TEST_DIR}/client_test.csv', low_memory=False)\n",
        "invoice_test = pd.read_csv(f'{TEST_DIR}/invoice_test.csv', low_memory=False)\n",
        "sample_submission = pd.read_csv(f'{DATA_DIR}/SampleSubmission.csv', low_memory=False)"
      ]
    },
    {
      "cell_type": "markdown",
      "metadata": {
        "id": "cDRp9i5ZO9mz"
      },
      "source": [
        "## Data Understanding"
      ]
    },
    {
      "cell_type": "code",
      "execution_count": 7,
      "metadata": {
        "colab": {
          "base_uri": "https://localhost:8080/"
        },
        "id": "h4zQzvLjKZ6E",
        "outputId": "deb14c51-2f5d-40cd-aa35-771477e044e0"
      },
      "outputs": [
        {
          "name": "stdout",
          "output_type": "stream",
          "text": [
            "(135493, 6) (4476749, 16) (58069, 5) (4476749, 16)\n"
          ]
        }
      ],
      "source": [
        "#compare size of the various datasets\n",
        "print(client_train.shape, invoice_train.shape, client_test.shape, invoice_train.shape)"
      ]
    },
    {
      "cell_type": "code",
      "execution_count": 8,
      "metadata": {},
      "outputs": [
        {
          "data": {
            "text/html": [
              "<div>\n",
              "<style scoped>\n",
              "    .dataframe tbody tr th:only-of-type {\n",
              "        vertical-align: middle;\n",
              "    }\n",
              "\n",
              "    .dataframe tbody tr th {\n",
              "        vertical-align: top;\n",
              "    }\n",
              "\n",
              "    .dataframe thead th {\n",
              "        text-align: right;\n",
              "    }\n",
              "</style>\n",
              "<table border=\"1\" class=\"dataframe\">\n",
              "  <thead>\n",
              "    <tr style=\"text-align: right;\">\n",
              "      <th></th>\n",
              "      <th>client_id</th>\n",
              "      <th>invoice_date</th>\n",
              "      <th>tarif_type</th>\n",
              "      <th>counter_number</th>\n",
              "      <th>counter_statue</th>\n",
              "      <th>counter_code</th>\n",
              "      <th>reading_remarque</th>\n",
              "      <th>counter_coefficient</th>\n",
              "      <th>consommation_level_1</th>\n",
              "      <th>consommation_level_2</th>\n",
              "      <th>consommation_level_3</th>\n",
              "      <th>consommation_level_4</th>\n",
              "      <th>old_index</th>\n",
              "      <th>new_index</th>\n",
              "      <th>months_number</th>\n",
              "      <th>counter_type</th>\n",
              "    </tr>\n",
              "  </thead>\n",
              "  <tbody>\n",
              "    <tr>\n",
              "      <th>0</th>\n",
              "      <td>train_Client_0</td>\n",
              "      <td>2014-03-24</td>\n",
              "      <td>11</td>\n",
              "      <td>1335667</td>\n",
              "      <td>0</td>\n",
              "      <td>203</td>\n",
              "      <td>8</td>\n",
              "      <td>1</td>\n",
              "      <td>82</td>\n",
              "      <td>0</td>\n",
              "      <td>0</td>\n",
              "      <td>0</td>\n",
              "      <td>14302</td>\n",
              "      <td>14384</td>\n",
              "      <td>4</td>\n",
              "      <td>ELEC</td>\n",
              "    </tr>\n",
              "    <tr>\n",
              "      <th>1</th>\n",
              "      <td>train_Client_0</td>\n",
              "      <td>2013-03-29</td>\n",
              "      <td>11</td>\n",
              "      <td>1335667</td>\n",
              "      <td>0</td>\n",
              "      <td>203</td>\n",
              "      <td>6</td>\n",
              "      <td>1</td>\n",
              "      <td>1200</td>\n",
              "      <td>184</td>\n",
              "      <td>0</td>\n",
              "      <td>0</td>\n",
              "      <td>12294</td>\n",
              "      <td>13678</td>\n",
              "      <td>4</td>\n",
              "      <td>ELEC</td>\n",
              "    </tr>\n",
              "    <tr>\n",
              "      <th>2</th>\n",
              "      <td>train_Client_0</td>\n",
              "      <td>2015-03-23</td>\n",
              "      <td>11</td>\n",
              "      <td>1335667</td>\n",
              "      <td>0</td>\n",
              "      <td>203</td>\n",
              "      <td>8</td>\n",
              "      <td>1</td>\n",
              "      <td>123</td>\n",
              "      <td>0</td>\n",
              "      <td>0</td>\n",
              "      <td>0</td>\n",
              "      <td>14624</td>\n",
              "      <td>14747</td>\n",
              "      <td>4</td>\n",
              "      <td>ELEC</td>\n",
              "    </tr>\n",
              "    <tr>\n",
              "      <th>3</th>\n",
              "      <td>train_Client_0</td>\n",
              "      <td>2015-07-13</td>\n",
              "      <td>11</td>\n",
              "      <td>1335667</td>\n",
              "      <td>0</td>\n",
              "      <td>207</td>\n",
              "      <td>8</td>\n",
              "      <td>1</td>\n",
              "      <td>102</td>\n",
              "      <td>0</td>\n",
              "      <td>0</td>\n",
              "      <td>0</td>\n",
              "      <td>14747</td>\n",
              "      <td>14849</td>\n",
              "      <td>4</td>\n",
              "      <td>ELEC</td>\n",
              "    </tr>\n",
              "    <tr>\n",
              "      <th>4</th>\n",
              "      <td>train_Client_0</td>\n",
              "      <td>2016-11-17</td>\n",
              "      <td>11</td>\n",
              "      <td>1335667</td>\n",
              "      <td>0</td>\n",
              "      <td>207</td>\n",
              "      <td>9</td>\n",
              "      <td>1</td>\n",
              "      <td>572</td>\n",
              "      <td>0</td>\n",
              "      <td>0</td>\n",
              "      <td>0</td>\n",
              "      <td>15066</td>\n",
              "      <td>15638</td>\n",
              "      <td>12</td>\n",
              "      <td>ELEC</td>\n",
              "    </tr>\n",
              "  </tbody>\n",
              "</table>\n",
              "</div>"
            ],
            "text/plain": [
              "        client_id invoice_date  tarif_type  counter_number counter_statue   \n",
              "0  train_Client_0   2014-03-24          11         1335667              0  \\\n",
              "1  train_Client_0   2013-03-29          11         1335667              0   \n",
              "2  train_Client_0   2015-03-23          11         1335667              0   \n",
              "3  train_Client_0   2015-07-13          11         1335667              0   \n",
              "4  train_Client_0   2016-11-17          11         1335667              0   \n",
              "\n",
              "   counter_code  reading_remarque  counter_coefficient  consommation_level_1   \n",
              "0           203                 8                    1                    82  \\\n",
              "1           203                 6                    1                  1200   \n",
              "2           203                 8                    1                   123   \n",
              "3           207                 8                    1                   102   \n",
              "4           207                 9                    1                   572   \n",
              "\n",
              "   consommation_level_2  consommation_level_3  consommation_level_4   \n",
              "0                     0                     0                     0  \\\n",
              "1                   184                     0                     0   \n",
              "2                     0                     0                     0   \n",
              "3                     0                     0                     0   \n",
              "4                     0                     0                     0   \n",
              "\n",
              "   old_index  new_index  months_number counter_type  \n",
              "0      14302      14384              4         ELEC  \n",
              "1      12294      13678              4         ELEC  \n",
              "2      14624      14747              4         ELEC  \n",
              "3      14747      14849              4         ELEC  \n",
              "4      15066      15638             12         ELEC  "
            ]
          },
          "execution_count": 8,
          "metadata": {},
          "output_type": "execute_result"
        }
      ],
      "source": [
        "#print top rows of dataset\n",
        "invoice_train.head()"
      ]
    },
    {
      "cell_type": "code",
      "execution_count": 9,
      "metadata": {},
      "outputs": [],
      "source": [
        "#invoice_train['invoice_date'] = pd.to_datetime(invoice_train['invoice_date'])#, format='%d/%m/%Y')\n",
        "#invoice_test['invoice_date'] = pd.to_datetime(invoice_test['invoice_date'])#, format='%d/%m/%Y')"
      ]
    },
    {
      "cell_type": "code",
      "execution_count": 10,
      "metadata": {},
      "outputs": [
        {
          "data": {
            "text/html": [
              "<div>\n",
              "<style scoped>\n",
              "    .dataframe tbody tr th:only-of-type {\n",
              "        vertical-align: middle;\n",
              "    }\n",
              "\n",
              "    .dataframe tbody tr th {\n",
              "        vertical-align: top;\n",
              "    }\n",
              "\n",
              "    .dataframe thead th {\n",
              "        text-align: right;\n",
              "    }\n",
              "</style>\n",
              "<table border=\"1\" class=\"dataframe\">\n",
              "  <thead>\n",
              "    <tr style=\"text-align: right;\">\n",
              "      <th></th>\n",
              "      <th>client_id</th>\n",
              "      <th>invoice_date</th>\n",
              "      <th>tarif_type</th>\n",
              "      <th>counter_number</th>\n",
              "      <th>counter_statue</th>\n",
              "      <th>counter_code</th>\n",
              "      <th>reading_remarque</th>\n",
              "      <th>counter_coefficient</th>\n",
              "      <th>consommation_level_1</th>\n",
              "      <th>consommation_level_2</th>\n",
              "      <th>consommation_level_3</th>\n",
              "      <th>consommation_level_4</th>\n",
              "      <th>old_index</th>\n",
              "      <th>new_index</th>\n",
              "      <th>months_number</th>\n",
              "      <th>counter_type</th>\n",
              "    </tr>\n",
              "  </thead>\n",
              "  <tbody>\n",
              "    <tr>\n",
              "      <th>0</th>\n",
              "      <td>train_Client_0</td>\n",
              "      <td>2014-03-24</td>\n",
              "      <td>11</td>\n",
              "      <td>1335667</td>\n",
              "      <td>0</td>\n",
              "      <td>203</td>\n",
              "      <td>8</td>\n",
              "      <td>1</td>\n",
              "      <td>82</td>\n",
              "      <td>0</td>\n",
              "      <td>0</td>\n",
              "      <td>0</td>\n",
              "      <td>14302</td>\n",
              "      <td>14384</td>\n",
              "      <td>4</td>\n",
              "      <td>ELEC</td>\n",
              "    </tr>\n",
              "    <tr>\n",
              "      <th>1</th>\n",
              "      <td>train_Client_0</td>\n",
              "      <td>2013-03-29</td>\n",
              "      <td>11</td>\n",
              "      <td>1335667</td>\n",
              "      <td>0</td>\n",
              "      <td>203</td>\n",
              "      <td>6</td>\n",
              "      <td>1</td>\n",
              "      <td>1200</td>\n",
              "      <td>184</td>\n",
              "      <td>0</td>\n",
              "      <td>0</td>\n",
              "      <td>12294</td>\n",
              "      <td>13678</td>\n",
              "      <td>4</td>\n",
              "      <td>ELEC</td>\n",
              "    </tr>\n",
              "    <tr>\n",
              "      <th>2</th>\n",
              "      <td>train_Client_0</td>\n",
              "      <td>2015-03-23</td>\n",
              "      <td>11</td>\n",
              "      <td>1335667</td>\n",
              "      <td>0</td>\n",
              "      <td>203</td>\n",
              "      <td>8</td>\n",
              "      <td>1</td>\n",
              "      <td>123</td>\n",
              "      <td>0</td>\n",
              "      <td>0</td>\n",
              "      <td>0</td>\n",
              "      <td>14624</td>\n",
              "      <td>14747</td>\n",
              "      <td>4</td>\n",
              "      <td>ELEC</td>\n",
              "    </tr>\n",
              "    <tr>\n",
              "      <th>3</th>\n",
              "      <td>train_Client_0</td>\n",
              "      <td>2015-07-13</td>\n",
              "      <td>11</td>\n",
              "      <td>1335667</td>\n",
              "      <td>0</td>\n",
              "      <td>207</td>\n",
              "      <td>8</td>\n",
              "      <td>1</td>\n",
              "      <td>102</td>\n",
              "      <td>0</td>\n",
              "      <td>0</td>\n",
              "      <td>0</td>\n",
              "      <td>14747</td>\n",
              "      <td>14849</td>\n",
              "      <td>4</td>\n",
              "      <td>ELEC</td>\n",
              "    </tr>\n",
              "    <tr>\n",
              "      <th>4</th>\n",
              "      <td>train_Client_0</td>\n",
              "      <td>2016-11-17</td>\n",
              "      <td>11</td>\n",
              "      <td>1335667</td>\n",
              "      <td>0</td>\n",
              "      <td>207</td>\n",
              "      <td>9</td>\n",
              "      <td>1</td>\n",
              "      <td>572</td>\n",
              "      <td>0</td>\n",
              "      <td>0</td>\n",
              "      <td>0</td>\n",
              "      <td>15066</td>\n",
              "      <td>15638</td>\n",
              "      <td>12</td>\n",
              "      <td>ELEC</td>\n",
              "    </tr>\n",
              "  </tbody>\n",
              "</table>\n",
              "</div>"
            ],
            "text/plain": [
              "        client_id invoice_date  tarif_type  counter_number counter_statue   \n",
              "0  train_Client_0   2014-03-24          11         1335667              0  \\\n",
              "1  train_Client_0   2013-03-29          11         1335667              0   \n",
              "2  train_Client_0   2015-03-23          11         1335667              0   \n",
              "3  train_Client_0   2015-07-13          11         1335667              0   \n",
              "4  train_Client_0   2016-11-17          11         1335667              0   \n",
              "\n",
              "   counter_code  reading_remarque  counter_coefficient  consommation_level_1   \n",
              "0           203                 8                    1                    82  \\\n",
              "1           203                 6                    1                  1200   \n",
              "2           203                 8                    1                   123   \n",
              "3           207                 8                    1                   102   \n",
              "4           207                 9                    1                   572   \n",
              "\n",
              "   consommation_level_2  consommation_level_3  consommation_level_4   \n",
              "0                     0                     0                     0  \\\n",
              "1                   184                     0                     0   \n",
              "2                     0                     0                     0   \n",
              "3                     0                     0                     0   \n",
              "4                     0                     0                     0   \n",
              "\n",
              "   old_index  new_index  months_number counter_type  \n",
              "0      14302      14384              4         ELEC  \n",
              "1      12294      13678              4         ELEC  \n",
              "2      14624      14747              4         ELEC  \n",
              "3      14747      14849              4         ELEC  \n",
              "4      15066      15638             12         ELEC  "
            ]
          },
          "execution_count": 10,
          "metadata": {},
          "output_type": "execute_result"
        }
      ],
      "source": [
        "invoice_train.head()"
      ]
    },
    {
      "cell_type": "code",
      "execution_count": 11,
      "metadata": {},
      "outputs": [
        {
          "data": {
            "text/html": [
              "<div>\n",
              "<style scoped>\n",
              "    .dataframe tbody tr th:only-of-type {\n",
              "        vertical-align: middle;\n",
              "    }\n",
              "\n",
              "    .dataframe tbody tr th {\n",
              "        vertical-align: top;\n",
              "    }\n",
              "\n",
              "    .dataframe thead th {\n",
              "        text-align: right;\n",
              "    }\n",
              "</style>\n",
              "<table border=\"1\" class=\"dataframe\">\n",
              "  <thead>\n",
              "    <tr style=\"text-align: right;\">\n",
              "      <th></th>\n",
              "      <th>disrict</th>\n",
              "      <th>client_id</th>\n",
              "      <th>client_catg</th>\n",
              "      <th>region</th>\n",
              "      <th>creation_date</th>\n",
              "      <th>target</th>\n",
              "    </tr>\n",
              "  </thead>\n",
              "  <tbody>\n",
              "    <tr>\n",
              "      <th>0</th>\n",
              "      <td>60</td>\n",
              "      <td>train_Client_0</td>\n",
              "      <td>11</td>\n",
              "      <td>101</td>\n",
              "      <td>31/12/1994</td>\n",
              "      <td>0.0</td>\n",
              "    </tr>\n",
              "    <tr>\n",
              "      <th>1</th>\n",
              "      <td>69</td>\n",
              "      <td>train_Client_1</td>\n",
              "      <td>11</td>\n",
              "      <td>107</td>\n",
              "      <td>29/05/2002</td>\n",
              "      <td>0.0</td>\n",
              "    </tr>\n",
              "    <tr>\n",
              "      <th>2</th>\n",
              "      <td>62</td>\n",
              "      <td>train_Client_10</td>\n",
              "      <td>11</td>\n",
              "      <td>301</td>\n",
              "      <td>13/03/1986</td>\n",
              "      <td>0.0</td>\n",
              "    </tr>\n",
              "    <tr>\n",
              "      <th>3</th>\n",
              "      <td>69</td>\n",
              "      <td>train_Client_100</td>\n",
              "      <td>11</td>\n",
              "      <td>105</td>\n",
              "      <td>11/07/1996</td>\n",
              "      <td>0.0</td>\n",
              "    </tr>\n",
              "    <tr>\n",
              "      <th>4</th>\n",
              "      <td>62</td>\n",
              "      <td>train_Client_1000</td>\n",
              "      <td>11</td>\n",
              "      <td>303</td>\n",
              "      <td>14/10/2014</td>\n",
              "      <td>0.0</td>\n",
              "    </tr>\n",
              "  </tbody>\n",
              "</table>\n",
              "</div>"
            ],
            "text/plain": [
              "   disrict          client_id  client_catg  region creation_date  target\n",
              "0       60     train_Client_0           11     101    31/12/1994     0.0\n",
              "1       69     train_Client_1           11     107    29/05/2002     0.0\n",
              "2       62    train_Client_10           11     301    13/03/1986     0.0\n",
              "3       69   train_Client_100           11     105    11/07/1996     0.0\n",
              "4       62  train_Client_1000           11     303    14/10/2014     0.0"
            ]
          },
          "execution_count": 11,
          "metadata": {},
          "output_type": "execute_result"
        }
      ],
      "source": [
        "client_train.head()"
      ]
    },
    {
      "cell_type": "code",
      "execution_count": 12,
      "metadata": {},
      "outputs": [
        {
          "data": {
            "text/plain": [
              "16"
            ]
          },
          "execution_count": 12,
          "metadata": {},
          "output_type": "execute_result"
        }
      ],
      "source": [
        "invoice_train[\"counter_coefficient\"].sort_values()\n",
        "invoice_train[\"counter_coefficient\"].nunique()"
      ]
    },
    {
      "cell_type": "code",
      "execution_count": 13,
      "metadata": {
        "colab": {
          "base_uri": "https://localhost:8080/",
          "height": 270
        },
        "id": "Tw1On2leQsxU",
        "outputId": "4bbe6376-2007-4ea4-cd6f-e53e4c0bcb33"
      },
      "outputs": [
        {
          "data": {
            "text/plain": [
              "3704439      5\n",
              "4476748      6\n",
              "3262542      6\n",
              "1659782      6\n",
              "3262538      6\n",
              "          ... \n",
              "2556034    413\n",
              "2556043    413\n",
              "2556044    413\n",
              "2556035    413\n",
              "2556037    413\n",
              "Name: reading_remarque, Length: 4476749, dtype: int64"
            ]
          },
          "execution_count": 13,
          "metadata": {},
          "output_type": "execute_result"
        }
      ],
      "source": [
        "\n",
        "invoice_train[\"reading_remarque\"].sort_values(ascending=True)"
      ]
    },
    {
      "cell_type": "code",
      "execution_count": 14,
      "metadata": {
        "colab": {
          "base_uri": "https://localhost:8080/",
          "height": 206
        },
        "id": "jUcrU9IYSMZJ",
        "outputId": "e70e5da0-7451-48ca-8c3a-643524f3139c"
      },
      "outputs": [
        {
          "data": {
            "text/html": [
              "<div>\n",
              "<style scoped>\n",
              "    .dataframe tbody tr th:only-of-type {\n",
              "        vertical-align: middle;\n",
              "    }\n",
              "\n",
              "    .dataframe tbody tr th {\n",
              "        vertical-align: top;\n",
              "    }\n",
              "\n",
              "    .dataframe thead th {\n",
              "        text-align: right;\n",
              "    }\n",
              "</style>\n",
              "<table border=\"1\" class=\"dataframe\">\n",
              "  <thead>\n",
              "    <tr style=\"text-align: right;\">\n",
              "      <th></th>\n",
              "      <th>disrict</th>\n",
              "      <th>client_id</th>\n",
              "      <th>client_catg</th>\n",
              "      <th>region</th>\n",
              "      <th>creation_date</th>\n",
              "      <th>target</th>\n",
              "    </tr>\n",
              "  </thead>\n",
              "  <tbody>\n",
              "    <tr>\n",
              "      <th>0</th>\n",
              "      <td>60</td>\n",
              "      <td>train_Client_0</td>\n",
              "      <td>11</td>\n",
              "      <td>101</td>\n",
              "      <td>31/12/1994</td>\n",
              "      <td>0.0</td>\n",
              "    </tr>\n",
              "    <tr>\n",
              "      <th>1</th>\n",
              "      <td>69</td>\n",
              "      <td>train_Client_1</td>\n",
              "      <td>11</td>\n",
              "      <td>107</td>\n",
              "      <td>29/05/2002</td>\n",
              "      <td>0.0</td>\n",
              "    </tr>\n",
              "    <tr>\n",
              "      <th>2</th>\n",
              "      <td>62</td>\n",
              "      <td>train_Client_10</td>\n",
              "      <td>11</td>\n",
              "      <td>301</td>\n",
              "      <td>13/03/1986</td>\n",
              "      <td>0.0</td>\n",
              "    </tr>\n",
              "    <tr>\n",
              "      <th>3</th>\n",
              "      <td>69</td>\n",
              "      <td>train_Client_100</td>\n",
              "      <td>11</td>\n",
              "      <td>105</td>\n",
              "      <td>11/07/1996</td>\n",
              "      <td>0.0</td>\n",
              "    </tr>\n",
              "    <tr>\n",
              "      <th>4</th>\n",
              "      <td>62</td>\n",
              "      <td>train_Client_1000</td>\n",
              "      <td>11</td>\n",
              "      <td>303</td>\n",
              "      <td>14/10/2014</td>\n",
              "      <td>0.0</td>\n",
              "    </tr>\n",
              "  </tbody>\n",
              "</table>\n",
              "</div>"
            ],
            "text/plain": [
              "   disrict          client_id  client_catg  region creation_date  target\n",
              "0       60     train_Client_0           11     101    31/12/1994     0.0\n",
              "1       69     train_Client_1           11     107    29/05/2002     0.0\n",
              "2       62    train_Client_10           11     301    13/03/1986     0.0\n",
              "3       69   train_Client_100           11     105    11/07/1996     0.0\n",
              "4       62  train_Client_1000           11     303    14/10/2014     0.0"
            ]
          },
          "execution_count": 14,
          "metadata": {},
          "output_type": "execute_result"
        }
      ],
      "source": [
        "#print top rows of dataset\n",
        "client_train.head()"
      ]
    },
    {
      "cell_type": "code",
      "execution_count": 15,
      "metadata": {},
      "outputs": [],
      "source": [
        "#client_train['creation_date'] = pd.to_datetime(client_train['creation_date'])#, format='%d/%m/%Y')\n",
        "#client_test['creation_date'] = pd.to_datetime(client_test['creation_date'])#, format='%d/%m/%Y')"
      ]
    },
    {
      "cell_type": "code",
      "execution_count": 16,
      "metadata": {
        "colab": {
          "base_uri": "https://localhost:8080/",
          "height": 300
        },
        "id": "fFBTeG8YSicC",
        "outputId": "551f42dc-8b1c-42a9-9a60-f6dc9279911b"
      },
      "outputs": [
        {
          "data": {
            "text/html": [
              "<div>\n",
              "<style scoped>\n",
              "    .dataframe tbody tr th:only-of-type {\n",
              "        vertical-align: middle;\n",
              "    }\n",
              "\n",
              "    .dataframe tbody tr th {\n",
              "        vertical-align: top;\n",
              "    }\n",
              "\n",
              "    .dataframe thead th {\n",
              "        text-align: right;\n",
              "    }\n",
              "</style>\n",
              "<table border=\"1\" class=\"dataframe\">\n",
              "  <thead>\n",
              "    <tr style=\"text-align: right;\">\n",
              "      <th></th>\n",
              "      <th>tarif_type</th>\n",
              "      <th>counter_number</th>\n",
              "      <th>counter_code</th>\n",
              "      <th>reading_remarque</th>\n",
              "      <th>counter_coefficient</th>\n",
              "      <th>consommation_level_1</th>\n",
              "      <th>consommation_level_2</th>\n",
              "      <th>consommation_level_3</th>\n",
              "      <th>consommation_level_4</th>\n",
              "      <th>old_index</th>\n",
              "      <th>new_index</th>\n",
              "      <th>months_number</th>\n",
              "    </tr>\n",
              "  </thead>\n",
              "  <tbody>\n",
              "    <tr>\n",
              "      <th>count</th>\n",
              "      <td>4.476749e+06</td>\n",
              "      <td>4.476749e+06</td>\n",
              "      <td>4.476749e+06</td>\n",
              "      <td>4.476749e+06</td>\n",
              "      <td>4.476749e+06</td>\n",
              "      <td>4.476749e+06</td>\n",
              "      <td>4.476749e+06</td>\n",
              "      <td>4.476749e+06</td>\n",
              "      <td>4.476749e+06</td>\n",
              "      <td>4.476749e+06</td>\n",
              "      <td>4.476749e+06</td>\n",
              "      <td>4.476749e+06</td>\n",
              "    </tr>\n",
              "    <tr>\n",
              "      <th>mean</th>\n",
              "      <td>2.012804e+01</td>\n",
              "      <td>1.230587e+11</td>\n",
              "      <td>1.724884e+02</td>\n",
              "      <td>7.321702e+00</td>\n",
              "      <td>1.003040e+00</td>\n",
              "      <td>4.109795e+02</td>\n",
              "      <td>1.093225e+02</td>\n",
              "      <td>2.030620e+01</td>\n",
              "      <td>5.292588e+01</td>\n",
              "      <td>1.776700e+04</td>\n",
              "      <td>1.834970e+04</td>\n",
              "      <td>4.483095e+01</td>\n",
              "    </tr>\n",
              "    <tr>\n",
              "      <th>std</th>\n",
              "      <td>1.347256e+01</td>\n",
              "      <td>1.657267e+12</td>\n",
              "      <td>1.338871e+02</td>\n",
              "      <td>1.571654e+00</td>\n",
              "      <td>3.083466e-01</td>\n",
              "      <td>7.573080e+02</td>\n",
              "      <td>1.220123e+03</td>\n",
              "      <td>1.574239e+02</td>\n",
              "      <td>8.754725e+02</td>\n",
              "      <td>4.036693e+04</td>\n",
              "      <td>4.095321e+04</td>\n",
              "      <td>3.128335e+03</td>\n",
              "    </tr>\n",
              "    <tr>\n",
              "      <th>min</th>\n",
              "      <td>8.000000e+00</td>\n",
              "      <td>0.000000e+00</td>\n",
              "      <td>0.000000e+00</td>\n",
              "      <td>5.000000e+00</td>\n",
              "      <td>0.000000e+00</td>\n",
              "      <td>0.000000e+00</td>\n",
              "      <td>0.000000e+00</td>\n",
              "      <td>0.000000e+00</td>\n",
              "      <td>0.000000e+00</td>\n",
              "      <td>0.000000e+00</td>\n",
              "      <td>0.000000e+00</td>\n",
              "      <td>0.000000e+00</td>\n",
              "    </tr>\n",
              "    <tr>\n",
              "      <th>25%</th>\n",
              "      <td>1.100000e+01</td>\n",
              "      <td>1.211080e+05</td>\n",
              "      <td>5.000000e+00</td>\n",
              "      <td>6.000000e+00</td>\n",
              "      <td>1.000000e+00</td>\n",
              "      <td>7.900000e+01</td>\n",
              "      <td>0.000000e+00</td>\n",
              "      <td>0.000000e+00</td>\n",
              "      <td>0.000000e+00</td>\n",
              "      <td>1.791000e+03</td>\n",
              "      <td>2.056000e+03</td>\n",
              "      <td>4.000000e+00</td>\n",
              "    </tr>\n",
              "    <tr>\n",
              "      <th>50%</th>\n",
              "      <td>1.100000e+01</td>\n",
              "      <td>4.945610e+05</td>\n",
              "      <td>2.030000e+02</td>\n",
              "      <td>8.000000e+00</td>\n",
              "      <td>1.000000e+00</td>\n",
              "      <td>2.740000e+02</td>\n",
              "      <td>0.000000e+00</td>\n",
              "      <td>0.000000e+00</td>\n",
              "      <td>0.000000e+00</td>\n",
              "      <td>7.690000e+03</td>\n",
              "      <td>8.192000e+03</td>\n",
              "      <td>4.000000e+00</td>\n",
              "    </tr>\n",
              "    <tr>\n",
              "      <th>75%</th>\n",
              "      <td>4.000000e+01</td>\n",
              "      <td>1.115161e+06</td>\n",
              "      <td>2.070000e+02</td>\n",
              "      <td>9.000000e+00</td>\n",
              "      <td>1.000000e+00</td>\n",
              "      <td>6.000000e+02</td>\n",
              "      <td>0.000000e+00</td>\n",
              "      <td>0.000000e+00</td>\n",
              "      <td>0.000000e+00</td>\n",
              "      <td>2.166000e+04</td>\n",
              "      <td>2.234300e+04</td>\n",
              "      <td>4.000000e+00</td>\n",
              "    </tr>\n",
              "    <tr>\n",
              "      <th>max</th>\n",
              "      <td>4.500000e+01</td>\n",
              "      <td>2.798115e+13</td>\n",
              "      <td>6.000000e+02</td>\n",
              "      <td>4.130000e+02</td>\n",
              "      <td>5.000000e+01</td>\n",
              "      <td>9.999100e+05</td>\n",
              "      <td>9.990730e+05</td>\n",
              "      <td>6.449200e+04</td>\n",
              "      <td>5.479460e+05</td>\n",
              "      <td>2.800280e+06</td>\n",
              "      <td>2.870972e+06</td>\n",
              "      <td>6.366240e+05</td>\n",
              "    </tr>\n",
              "  </tbody>\n",
              "</table>\n",
              "</div>"
            ],
            "text/plain": [
              "         tarif_type  counter_number  counter_code  reading_remarque   \n",
              "count  4.476749e+06    4.476749e+06  4.476749e+06      4.476749e+06  \\\n",
              "mean   2.012804e+01    1.230587e+11  1.724884e+02      7.321702e+00   \n",
              "std    1.347256e+01    1.657267e+12  1.338871e+02      1.571654e+00   \n",
              "min    8.000000e+00    0.000000e+00  0.000000e+00      5.000000e+00   \n",
              "25%    1.100000e+01    1.211080e+05  5.000000e+00      6.000000e+00   \n",
              "50%    1.100000e+01    4.945610e+05  2.030000e+02      8.000000e+00   \n",
              "75%    4.000000e+01    1.115161e+06  2.070000e+02      9.000000e+00   \n",
              "max    4.500000e+01    2.798115e+13  6.000000e+02      4.130000e+02   \n",
              "\n",
              "       counter_coefficient  consommation_level_1  consommation_level_2   \n",
              "count         4.476749e+06          4.476749e+06          4.476749e+06  \\\n",
              "mean          1.003040e+00          4.109795e+02          1.093225e+02   \n",
              "std           3.083466e-01          7.573080e+02          1.220123e+03   \n",
              "min           0.000000e+00          0.000000e+00          0.000000e+00   \n",
              "25%           1.000000e+00          7.900000e+01          0.000000e+00   \n",
              "50%           1.000000e+00          2.740000e+02          0.000000e+00   \n",
              "75%           1.000000e+00          6.000000e+02          0.000000e+00   \n",
              "max           5.000000e+01          9.999100e+05          9.990730e+05   \n",
              "\n",
              "       consommation_level_3  consommation_level_4     old_index     new_index   \n",
              "count          4.476749e+06          4.476749e+06  4.476749e+06  4.476749e+06  \\\n",
              "mean           2.030620e+01          5.292588e+01  1.776700e+04  1.834970e+04   \n",
              "std            1.574239e+02          8.754725e+02  4.036693e+04  4.095321e+04   \n",
              "min            0.000000e+00          0.000000e+00  0.000000e+00  0.000000e+00   \n",
              "25%            0.000000e+00          0.000000e+00  1.791000e+03  2.056000e+03   \n",
              "50%            0.000000e+00          0.000000e+00  7.690000e+03  8.192000e+03   \n",
              "75%            0.000000e+00          0.000000e+00  2.166000e+04  2.234300e+04   \n",
              "max            6.449200e+04          5.479460e+05  2.800280e+06  2.870972e+06   \n",
              "\n",
              "       months_number  \n",
              "count   4.476749e+06  \n",
              "mean    4.483095e+01  \n",
              "std     3.128335e+03  \n",
              "min     0.000000e+00  \n",
              "25%     4.000000e+00  \n",
              "50%     4.000000e+00  \n",
              "75%     4.000000e+00  \n",
              "max     6.366240e+05  "
            ]
          },
          "execution_count": 16,
          "metadata": {},
          "output_type": "execute_result"
        }
      ],
      "source": [
        "#Get a summary for all numerical columns\n",
        "invoice_train.describe()"
      ]
    },
    {
      "cell_type": "code",
      "execution_count": 17,
      "metadata": {
        "colab": {
          "base_uri": "https://localhost:8080/",
          "height": 300
        },
        "id": "egcBZ2ysSkji",
        "outputId": "37102972-554b-4063-ce3b-14dae74b3540"
      },
      "outputs": [
        {
          "data": {
            "text/html": [
              "<div>\n",
              "<style scoped>\n",
              "    .dataframe tbody tr th:only-of-type {\n",
              "        vertical-align: middle;\n",
              "    }\n",
              "\n",
              "    .dataframe tbody tr th {\n",
              "        vertical-align: top;\n",
              "    }\n",
              "\n",
              "    .dataframe thead th {\n",
              "        text-align: right;\n",
              "    }\n",
              "</style>\n",
              "<table border=\"1\" class=\"dataframe\">\n",
              "  <thead>\n",
              "    <tr style=\"text-align: right;\">\n",
              "      <th></th>\n",
              "      <th>disrict</th>\n",
              "      <th>client_catg</th>\n",
              "      <th>region</th>\n",
              "      <th>target</th>\n",
              "    </tr>\n",
              "  </thead>\n",
              "  <tbody>\n",
              "    <tr>\n",
              "      <th>count</th>\n",
              "      <td>135493.000000</td>\n",
              "      <td>135493.000000</td>\n",
              "      <td>135493.000000</td>\n",
              "      <td>135493.000000</td>\n",
              "    </tr>\n",
              "    <tr>\n",
              "      <th>mean</th>\n",
              "      <td>63.511222</td>\n",
              "      <td>11.512506</td>\n",
              "      <td>206.159809</td>\n",
              "      <td>0.055841</td>\n",
              "    </tr>\n",
              "    <tr>\n",
              "      <th>std</th>\n",
              "      <td>3.354400</td>\n",
              "      <td>4.423761</td>\n",
              "      <td>104.207044</td>\n",
              "      <td>0.229614</td>\n",
              "    </tr>\n",
              "    <tr>\n",
              "      <th>min</th>\n",
              "      <td>60.000000</td>\n",
              "      <td>11.000000</td>\n",
              "      <td>101.000000</td>\n",
              "      <td>0.000000</td>\n",
              "    </tr>\n",
              "    <tr>\n",
              "      <th>25%</th>\n",
              "      <td>62.000000</td>\n",
              "      <td>11.000000</td>\n",
              "      <td>103.000000</td>\n",
              "      <td>0.000000</td>\n",
              "    </tr>\n",
              "    <tr>\n",
              "      <th>50%</th>\n",
              "      <td>62.000000</td>\n",
              "      <td>11.000000</td>\n",
              "      <td>107.000000</td>\n",
              "      <td>0.000000</td>\n",
              "    </tr>\n",
              "    <tr>\n",
              "      <th>75%</th>\n",
              "      <td>69.000000</td>\n",
              "      <td>11.000000</td>\n",
              "      <td>307.000000</td>\n",
              "      <td>0.000000</td>\n",
              "    </tr>\n",
              "    <tr>\n",
              "      <th>max</th>\n",
              "      <td>69.000000</td>\n",
              "      <td>51.000000</td>\n",
              "      <td>399.000000</td>\n",
              "      <td>1.000000</td>\n",
              "    </tr>\n",
              "  </tbody>\n",
              "</table>\n",
              "</div>"
            ],
            "text/plain": [
              "             disrict    client_catg         region         target\n",
              "count  135493.000000  135493.000000  135493.000000  135493.000000\n",
              "mean       63.511222      11.512506     206.159809       0.055841\n",
              "std         3.354400       4.423761     104.207044       0.229614\n",
              "min        60.000000      11.000000     101.000000       0.000000\n",
              "25%        62.000000      11.000000     103.000000       0.000000\n",
              "50%        62.000000      11.000000     107.000000       0.000000\n",
              "75%        69.000000      11.000000     307.000000       0.000000\n",
              "max        69.000000      51.000000     399.000000       1.000000"
            ]
          },
          "execution_count": 17,
          "metadata": {},
          "output_type": "execute_result"
        }
      ],
      "source": [
        "#Get a summary for all numerical columns\n",
        "client_train.describe()"
      ]
    },
    {
      "cell_type": "code",
      "execution_count": 18,
      "metadata": {
        "colab": {
          "base_uri": "https://localhost:8080/"
        },
        "id": "-8gQmkajSnXs",
        "outputId": "fef429ad-2fd5-46e3-9d3b-32def757324c"
      },
      "outputs": [
        {
          "name": "stdout",
          "output_type": "stream",
          "text": [
            "<class 'pandas.core.frame.DataFrame'>\n",
            "RangeIndex: 4476749 entries, 0 to 4476748\n",
            "Data columns (total 16 columns):\n",
            " #   Column                Dtype \n",
            "---  ------                ----- \n",
            " 0   client_id             object\n",
            " 1   invoice_date          object\n",
            " 2   tarif_type            int64 \n",
            " 3   counter_number        int64 \n",
            " 4   counter_statue        object\n",
            " 5   counter_code          int64 \n",
            " 6   reading_remarque      int64 \n",
            " 7   counter_coefficient   int64 \n",
            " 8   consommation_level_1  int64 \n",
            " 9   consommation_level_2  int64 \n",
            " 10  consommation_level_3  int64 \n",
            " 11  consommation_level_4  int64 \n",
            " 12  old_index             int64 \n",
            " 13  new_index             int64 \n",
            " 14  months_number         int64 \n",
            " 15  counter_type          object\n",
            "dtypes: int64(12), object(4)\n",
            "memory usage: 546.5+ MB\n"
          ]
        }
      ],
      "source": [
        "#Get concise information of each column in dataset\n",
        "invoice_train.info()"
      ]
    },
    {
      "cell_type": "code",
      "execution_count": 19,
      "metadata": {
        "colab": {
          "base_uri": "https://localhost:8080/"
        },
        "id": "VII8aa8CSoed",
        "outputId": "330bd35b-fd37-422b-b718-c34d354661db"
      },
      "outputs": [
        {
          "name": "stdout",
          "output_type": "stream",
          "text": [
            "<class 'pandas.core.frame.DataFrame'>\n",
            "RangeIndex: 135493 entries, 0 to 135492\n",
            "Data columns (total 6 columns):\n",
            " #   Column         Non-Null Count   Dtype  \n",
            "---  ------         --------------   -----  \n",
            " 0   disrict        135493 non-null  int64  \n",
            " 1   client_id      135493 non-null  object \n",
            " 2   client_catg    135493 non-null  int64  \n",
            " 3   region         135493 non-null  int64  \n",
            " 4   creation_date  135493 non-null  object \n",
            " 5   target         135493 non-null  float64\n",
            "dtypes: float64(1), int64(3), object(2)\n",
            "memory usage: 6.2+ MB\n"
          ]
        }
      ],
      "source": [
        "#Get concise information of each column in dataset\n",
        "client_train.info()"
      ]
    },
    {
      "cell_type": "code",
      "execution_count": 20,
      "metadata": {
        "colab": {
          "base_uri": "https://localhost:8080/"
        },
        "id": "iiJ3e_pFSOWg",
        "outputId": "d074cb2a-d009-471f-f124-466db367df68"
      },
      "outputs": [
        {
          "name": "stdout",
          "output_type": "stream",
          "text": [
            "client_id - 135493\n",
            "invoice_date - 8275\n",
            "tarif_type - 17\n",
            "counter_number - 201893\n",
            "counter_statue - 12\n",
            "counter_code - 42\n",
            "reading_remarque - 8\n",
            "counter_coefficient - 16\n",
            "consommation_level_1 - 8295\n",
            "consommation_level_2 - 12576\n",
            "consommation_level_3 - 2253\n",
            "consommation_level_4 - 12075\n",
            "old_index - 155648\n",
            "new_index - 157980\n",
            "months_number - 1370\n",
            "counter_type - 2\n"
          ]
        }
      ],
      "source": [
        "#Getting unique values on the invoice train data\n",
        "for col in invoice_train.columns:\n",
        "    print(f\"{col} - {invoice_train[col].nunique()}\")"
      ]
    },
    {
      "cell_type": "code",
      "execution_count": 21,
      "metadata": {
        "colab": {
          "base_uri": "https://localhost:8080/"
        },
        "id": "uMC16gFETUAF",
        "outputId": "0e363f7b-35c4-45c2-c763-acf80585ef7c"
      },
      "outputs": [
        {
          "name": "stdout",
          "output_type": "stream",
          "text": [
            "disrict - 4\n",
            "client_id - 135493\n",
            "client_catg - 3\n",
            "region - 25\n",
            "creation_date - 8088\n",
            "target - 2\n"
          ]
        }
      ],
      "source": [
        "#Getting unique values on the invoice train data\n",
        "for col in client_train.columns:\n",
        "    print(f\"{col} - {client_train[col].nunique()}\")"
      ]
    },
    {
      "cell_type": "code",
      "execution_count": 22,
      "metadata": {
        "colab": {
          "base_uri": "https://localhost:8080/"
        },
        "id": "h10LPXsfVHhu",
        "outputId": "332ac9e1-02e3-4a3a-a8d6-1c8d706b9601"
      },
      "outputs": [
        {
          "data": {
            "text/plain": [
              "client_id               0\n",
              "invoice_date            0\n",
              "tarif_type              0\n",
              "counter_number          0\n",
              "counter_statue          0\n",
              "counter_code            0\n",
              "reading_remarque        0\n",
              "counter_coefficient     0\n",
              "consommation_level_1    0\n",
              "consommation_level_2    0\n",
              "consommation_level_3    0\n",
              "consommation_level_4    0\n",
              "old_index               0\n",
              "new_index               0\n",
              "months_number           0\n",
              "counter_type            0\n",
              "dtype: int64"
            ]
          },
          "execution_count": 22,
          "metadata": {},
          "output_type": "execute_result"
        }
      ],
      "source": [
        "#check for missing values\n",
        "invoice_train.isnull().sum()"
      ]
    },
    {
      "cell_type": "code",
      "execution_count": 23,
      "metadata": {
        "colab": {
          "base_uri": "https://localhost:8080/"
        },
        "id": "b3XyoiIbVO-b",
        "outputId": "9200e12f-66fd-43a4-edf4-daa1e1cfdd11"
      },
      "outputs": [
        {
          "data": {
            "text/plain": [
              "disrict          0\n",
              "client_id        0\n",
              "client_catg      0\n",
              "region           0\n",
              "creation_date    0\n",
              "target           0\n",
              "dtype: int64"
            ]
          },
          "execution_count": 23,
          "metadata": {},
          "output_type": "execute_result"
        }
      ],
      "source": [
        "#check for missing values\n",
        "client_train.isnull().sum()"
      ]
    },
    {
      "cell_type": "code",
      "execution_count": 24,
      "metadata": {},
      "outputs": [
        {
          "data": {
            "text/plain": [
              "client_id\n",
              "False    58069\n",
              "Name: count, dtype: int64"
            ]
          },
          "execution_count": 24,
          "metadata": {},
          "output_type": "execute_result"
        }
      ],
      "source": [
        "client_train[\"client_id\"].duplicated().value_counts()\n",
        "client_test[\"client_id\"].duplicated().value_counts()"
      ]
    },
    {
      "cell_type": "code",
      "execution_count": 25,
      "metadata": {},
      "outputs": [
        {
          "data": {
            "text/plain": [
              "client_id\n",
              "False    58069\n",
              "Name: count, dtype: int64"
            ]
          },
          "execution_count": 25,
          "metadata": {},
          "output_type": "execute_result"
        }
      ],
      "source": [
        "client_test[\"client_id\"].duplicated().value_counts()"
      ]
    },
    {
      "cell_type": "markdown",
      "metadata": {
        "id": "i3oZLTnSVSOT"
      },
      "source": [
        "No missing values in train set"
      ]
    },
    {
      "cell_type": "code",
      "execution_count": 26,
      "metadata": {
        "colab": {
          "base_uri": "https://localhost:8080/",
          "height": 281
        },
        "id": "JOzSAlEWTR3j",
        "outputId": "97a46548-924e-44a4-9b85-e40d01979b99"
      },
      "outputs": [
        {
          "data": {
            "image/png": "[encoded data removed]",
            "text/plain": [
              "<Figure size 640x480 with 1 Axes>"
            ]
          },
          "metadata": {},
          "output_type": "display_data"
        }
      ],
      "source": [
        "#Visualize fraudulent activities\n",
        "fraudactivities = client_train.groupby(['target'])['client_id'].count()\n",
        "plt.bar(x=fraudactivities.index, height=fraudactivities.values, tick_label = [0,1])\n",
        "plt.title('Fraud - Target Distribution')\n",
        "plt.show()"
      ]
    },
    {
      "cell_type": "markdown",
      "metadata": {
        "id": "fQb7RZf_Ufn9"
      },
      "source": [
        "Target is highly imbalanced with fewer cases of fraudulent activities"
      ]
    },
    {
      "cell_type": "code",
      "execution_count": 27,
      "metadata": {
        "colab": {
          "base_uri": "https://localhost:8080/",
          "height": 545
        },
        "id": "v8G8BPgMUrVW",
        "outputId": "886941f9-3a90-48c2-ddac-75728bd7b935"
      },
      "outputs": [
        {
          "data": {
            "image/png": "[encoded data removed]",
            "text/plain": [
              "<Figure size 640x480 with 1 Axes>"
            ]
          },
          "metadata": {},
          "output_type": "display_data"
        },
        {
          "data": {
            "image/png": "[encoded data removed]",
            "text/plain": [
              "<Figure size 640x480 with 1 Axes>"
            ]
          },
          "metadata": {},
          "output_type": "display_data"
        }
      ],
      "source": [
        "#Visualize client distribution across districts and regions\n",
        "for col in ['disrict','region']:\n",
        "    region = client_train.groupby([col])['client_id'].count()\n",
        "    plt.bar(x=region.index, height=region.values)\n",
        "    plt.title(col+' distribution')\n",
        "    plt.show()"
      ]
    },
    {
      "cell_type": "markdown",
      "metadata": {
        "id": "0-LOrxdIU7-h"
      },
      "source": [
        "## Feature Engineering"
      ]
    },
    {
      "cell_type": "code",
      "execution_count": 28,
      "metadata": {
        "id": "aVypp4ahU9tq"
      },
      "outputs": [],
      "source": [
        "#convert the column invoice_date to date time format on both the invoice train and invoice test\n",
        "for df in [invoice_train,invoice_test]:\n",
        "    df['invoice_date'] = pd.to_datetime(df['invoice_date'])"
      ]
    },
    {
      "cell_type": "code",
      "execution_count": 29,
      "metadata": {
        "id": "sW2W5i63VYyK"
      },
      "outputs": [],
      "source": [
        "#encode labels in categorical column\n",
        "d={\"ELEC\":0,\"GAZ\":1}\n",
        "invoice_train['counter_type']=invoice_train['counter_type'].map(d)\n",
        "invoice_test['counter_type']=invoice_test['counter_type'].map(d)"
      ]
    },
    {
      "cell_type": "code",
      "execution_count": 30,
      "metadata": {
        "id": "NldYnn0GWHAk"
      },
      "outputs": [],
      "source": [
        "#convert categorical columns to int for model\n",
        "client_train['client_catg'] = client_train['client_catg'].astype(int)\n",
        "client_train['disrict'] = client_train['disrict'].astype(int)\n",
        "\n",
        "client_test['client_catg'] = client_test['client_catg'].astype(int)\n",
        "client_test['disrict'] = client_test['disrict'].astype(int)"
      ]
    },
    {
      "cell_type": "code",
      "execution_count": 31,
      "metadata": {
        "id": "Bt7LJHhyXJji"
      },
      "outputs": [],
      "source": [
        "def aggregate_by_client_id(invoice_data):\n",
        "    aggs = {}\n",
        "    aggs['consommation_level_1'] = ['mean']\n",
        "    aggs['consommation_level_2'] = ['mean']\n",
        "    aggs['consommation_level_3'] = ['mean']\n",
        "    aggs['consommation_level_4'] = ['mean']\n",
        "\n",
        "    agg_trans = invoice_data.groupby(['client_id']).agg(aggs)\n",
        "    agg_trans.columns = ['_'.join(col).strip() for col in agg_trans.columns.values]\n",
        "    agg_trans.reset_index(inplace=True)\n",
        "\n",
        "    df = (invoice_data.groupby('client_id')\n",
        "            .size()\n",
        "            .reset_index(name='{}transactions_count'.format('1')))\n",
        "    return pd.merge(df, agg_trans, on='client_id', how='left')"
      ]
    },
    {
      "cell_type": "code",
      "execution_count": 32,
      "metadata": {
        "id": "8gUjxEmKWZjp"
      },
      "outputs": [],
      "source": [
        "#group invoice data by client_id\n",
        "agg_train = aggregate_by_client_id(invoice_train)"
      ]
    },
    {
      "cell_type": "code",
      "execution_count": 33,
      "metadata": {
        "colab": {
          "base_uri": "https://localhost:8080/",
          "height": 224
        },
        "id": "5cIpY1tGWrkw",
        "outputId": "c57de3d5-3efe-4e8a-9a0c-7362f05fca4c"
      },
      "outputs": [
        {
          "name": "stdout",
          "output_type": "stream",
          "text": [
            "(135493, 6)\n"
          ]
        },
        {
          "data": {
            "text/html": [
              "<div>\n",
              "<style scoped>\n",
              "    .dataframe tbody tr th:only-of-type {\n",
              "        vertical-align: middle;\n",
              "    }\n",
              "\n",
              "    .dataframe tbody tr th {\n",
              "        vertical-align: top;\n",
              "    }\n",
              "\n",
              "    .dataframe thead th {\n",
              "        text-align: right;\n",
              "    }\n",
              "</style>\n",
              "<table border=\"1\" class=\"dataframe\">\n",
              "  <thead>\n",
              "    <tr style=\"text-align: right;\">\n",
              "      <th></th>\n",
              "      <th>client_id</th>\n",
              "      <th>1transactions_count</th>\n",
              "      <th>consommation_level_1_mean</th>\n",
              "      <th>consommation_level_2_mean</th>\n",
              "      <th>consommation_level_3_mean</th>\n",
              "      <th>consommation_level_4_mean</th>\n",
              "    </tr>\n",
              "  </thead>\n",
              "  <tbody>\n",
              "    <tr>\n",
              "      <th>0</th>\n",
              "      <td>train_Client_0</td>\n",
              "      <td>35</td>\n",
              "      <td>352.400000</td>\n",
              "      <td>10.571429</td>\n",
              "      <td>0.000000</td>\n",
              "      <td>0.000000</td>\n",
              "    </tr>\n",
              "    <tr>\n",
              "      <th>1</th>\n",
              "      <td>train_Client_1</td>\n",
              "      <td>37</td>\n",
              "      <td>557.540541</td>\n",
              "      <td>0.000000</td>\n",
              "      <td>0.000000</td>\n",
              "      <td>0.000000</td>\n",
              "    </tr>\n",
              "    <tr>\n",
              "      <th>2</th>\n",
              "      <td>train_Client_10</td>\n",
              "      <td>18</td>\n",
              "      <td>798.611111</td>\n",
              "      <td>37.888889</td>\n",
              "      <td>0.000000</td>\n",
              "      <td>0.000000</td>\n",
              "    </tr>\n",
              "    <tr>\n",
              "      <th>3</th>\n",
              "      <td>train_Client_100</td>\n",
              "      <td>20</td>\n",
              "      <td>1.200000</td>\n",
              "      <td>0.000000</td>\n",
              "      <td>0.000000</td>\n",
              "      <td>0.000000</td>\n",
              "    </tr>\n",
              "    <tr>\n",
              "      <th>4</th>\n",
              "      <td>train_Client_1000</td>\n",
              "      <td>14</td>\n",
              "      <td>663.714286</td>\n",
              "      <td>104.857143</td>\n",
              "      <td>117.357143</td>\n",
              "      <td>36.714286</td>\n",
              "    </tr>\n",
              "  </tbody>\n",
              "</table>\n",
              "</div>"
            ],
            "text/plain": [
              "           client_id  1transactions_count  consommation_level_1_mean   \n",
              "0     train_Client_0                   35                 352.400000  \\\n",
              "1     train_Client_1                   37                 557.540541   \n",
              "2    train_Client_10                   18                 798.611111   \n",
              "3   train_Client_100                   20                   1.200000   \n",
              "4  train_Client_1000                   14                 663.714286   \n",
              "\n",
              "   consommation_level_2_mean  consommation_level_3_mean   \n",
              "0                  10.571429                   0.000000  \\\n",
              "1                   0.000000                   0.000000   \n",
              "2                  37.888889                   0.000000   \n",
              "3                   0.000000                   0.000000   \n",
              "4                 104.857143                 117.357143   \n",
              "\n",
              "   consommation_level_4_mean  \n",
              "0                   0.000000  \n",
              "1                   0.000000  \n",
              "2                   0.000000  \n",
              "3                   0.000000  \n",
              "4                  36.714286  "
            ]
          },
          "execution_count": 33,
          "metadata": {},
          "output_type": "execute_result"
        }
      ],
      "source": [
        "print(agg_train.shape)\n",
        "agg_train.head()"
      ]
    },
    {
      "cell_type": "code",
      "execution_count": 34,
      "metadata": {
        "id": "beXOMOEMW97l"
      },
      "outputs": [],
      "source": [
        "#merge aggregate data with client dataset\n",
        "train = pd.merge(client_train,agg_train, on='client_id', how='left')"
      ]
    },
    {
      "cell_type": "code",
      "execution_count": 35,
      "metadata": {
        "id": "y6SFawOVXFDX"
      },
      "outputs": [],
      "source": [
        "#aggregate test set\n",
        "agg_test = aggregate_by_client_id(invoice_test)\n",
        "test = pd.merge(client_test,agg_test, on='client_id', how='left')"
      ]
    },
    {
      "cell_type": "code",
      "execution_count": 36,
      "metadata": {
        "colab": {
          "base_uri": "https://localhost:8080/"
        },
        "id": "dg0832jcXzkI",
        "outputId": "2c6ff557-0258-4310-d8f6-aad0627c9ddb"
      },
      "outputs": [
        {
          "data": {
            "text/plain": [
              "((135493, 11), (58069, 10))"
            ]
          },
          "execution_count": 36,
          "metadata": {},
          "output_type": "execute_result"
        }
      ],
      "source": [
        "train.shape, test.shape"
      ]
    },
    {
      "cell_type": "code",
      "execution_count": 37,
      "metadata": {
        "id": "BwYBcKk8X3mr"
      },
      "outputs": [],
      "source": [
        "#drop redundant columns\n",
        "sub_client_id = test['client_id']\n",
        "drop_columns = ['client_id', 'creation_date']\n",
        "\n",
        "for col in drop_columns:\n",
        "    if col in train.columns:\n",
        "        train.drop([col], axis=1, inplace=True)\n",
        "    if col in test.columns:\n",
        "        test.drop([col], axis=1, inplace=True)"
      ]
    },
    {
      "cell_type": "code",
      "execution_count": 38,
      "metadata": {},
      "outputs": [
        {
          "data": {
            "text/plain": [
              "((135493, 9), (58069, 8))"
            ]
          },
          "execution_count": 38,
          "metadata": {},
          "output_type": "execute_result"
        }
      ],
      "source": [
        "train.shape, test.shape"
      ]
    },
    {
      "cell_type": "code",
      "execution_count": 39,
      "metadata": {},
      "outputs": [
        {
          "data": {
            "text/plain": [
              "(Index(['disrict', 'client_catg', 'region', 'target', '1transactions_count',\n",
              "        'consommation_level_1_mean', 'consommation_level_2_mean',\n",
              "        'consommation_level_3_mean', 'consommation_level_4_mean'],\n",
              "       dtype='object'),\n",
              " Index(['disrict', 'client_catg', 'region', '1transactions_count',\n",
              "        'consommation_level_1_mean', 'consommation_level_2_mean',\n",
              "        'consommation_level_3_mean', 'consommation_level_4_mean'],\n",
              "       dtype='object'))"
            ]
          },
          "execution_count": 39,
          "metadata": {},
          "output_type": "execute_result"
        }
      ],
      "source": [
        "train.columns, test.columns"
      ]
    },
    {
      "cell_type": "markdown",
      "metadata": {
        "id": "iJ3KlVOCYfnZ"
      },
      "source": [
        "# Modelling"
      ]
    },
    {
      "cell_type": "code",
      "execution_count": 1,
      "metadata": {},
      "outputs": [],
      "source": [
        "from sklearn.metrics import precision_score, recall_score, roc_auc_score, roc_curve\n",
        "from sklearn.metrics import confusion_matrix, classification_report, accuracy_score\n",
        "import seaborn as sns\n",
        "\n",
        "from sklearn.model_selection import train_test_split\n",
        "import numpy as np\n",
        "import pandas as pd\n",
        "from sklearn.tree import plot_tree"
      ]
    },
    {
      "cell_type": "markdown",
      "metadata": {
        "id": "d1qXp8jYY30X"
      },
      "source": [
        "## Pre-process data"
      ]
    },
    {
      "cell_type": "markdown",
      "metadata": {},
      "source": [
        "* import required modules*"
      ]
    },
    {
      "cell_type": "code",
      "execution_count": 2,
      "metadata": {},
      "outputs": [],
      "source": [
        "# Set random seed to ensure reproducible runs\n",
        "RSEED = 50"
      ]
    },
    {
      "cell_type": "code",
      "execution_count": 9,
      "metadata": {},
      "outputs": [
        {
          "data": {
            "text/html": [
              "<div>\n",
              "<style scoped>\n",
              "    .dataframe tbody tr th:only-of-type {\n",
              "        vertical-align: middle;\n",
              "    }\n",
              "\n",
              "    .dataframe tbody tr th {\n",
              "        vertical-align: top;\n",
              "    }\n",
              "\n",
              "    .dataframe thead th {\n",
              "        text-align: right;\n",
              "    }\n",
              "</style>\n",
              "<table border=\"1\" class=\"dataframe\">\n",
              "  <thead>\n",
              "    <tr style=\"text-align: right;\">\n",
              "      <th></th>\n",
              "      <th>client_id</th>\n",
              "      <th>transactions_count</th>\n",
              "      <th>consommation_level_1_mean</th>\n",
              "      <th>consommation_level_2_mean</th>\n",
              "      <th>consommation_level_3_mean</th>\n",
              "      <th>consommation_level_4_mean</th>\n",
              "      <th>months_number_max</th>\n",
              "      <th>months_number_min</th>\n",
              "      <th>months_number_mean</th>\n",
              "      <th>consumption_sum</th>\n",
              "      <th>...</th>\n",
              "      <th>counter_type_0_nunique</th>\n",
              "      <th>counter_type_1_count</th>\n",
              "      <th>counter_type_1_nunique</th>\n",
              "      <th>counter_type_2_count</th>\n",
              "      <th>counter_type_2_nunique</th>\n",
              "      <th>disrict</th>\n",
              "      <th>client_catg</th>\n",
              "      <th>region</th>\n",
              "      <th>creation_date</th>\n",
              "      <th>target</th>\n",
              "    </tr>\n",
              "  </thead>\n",
              "  <tbody>\n",
              "    <tr>\n",
              "      <th>0</th>\n",
              "      <td>train_Client_0</td>\n",
              "      <td>35</td>\n",
              "      <td>352.400000</td>\n",
              "      <td>10.571429</td>\n",
              "      <td>0.000000</td>\n",
              "      <td>0.000000</td>\n",
              "      <td>12.0</td>\n",
              "      <td>2.0</td>\n",
              "      <td>4.628571</td>\n",
              "      <td>12704.0</td>\n",
              "      <td>...</td>\n",
              "      <td>1</td>\n",
              "      <td>35</td>\n",
              "      <td>1</td>\n",
              "      <td>35</td>\n",
              "      <td>1</td>\n",
              "      <td>60</td>\n",
              "      <td>11</td>\n",
              "      <td>101</td>\n",
              "      <td>31/12/1994</td>\n",
              "      <td>0.0</td>\n",
              "    </tr>\n",
              "    <tr>\n",
              "      <th>1</th>\n",
              "      <td>train_Client_1</td>\n",
              "      <td>37</td>\n",
              "      <td>557.540541</td>\n",
              "      <td>0.000000</td>\n",
              "      <td>0.000000</td>\n",
              "      <td>0.000000</td>\n",
              "      <td>8.0</td>\n",
              "      <td>2.0</td>\n",
              "      <td>4.324324</td>\n",
              "      <td>20629.0</td>\n",
              "      <td>...</td>\n",
              "      <td>1</td>\n",
              "      <td>37</td>\n",
              "      <td>1</td>\n",
              "      <td>37</td>\n",
              "      <td>1</td>\n",
              "      <td>69</td>\n",
              "      <td>11</td>\n",
              "      <td>107</td>\n",
              "      <td>29/05/2002</td>\n",
              "      <td>0.0</td>\n",
              "    </tr>\n",
              "    <tr>\n",
              "      <th>2</th>\n",
              "      <td>train_Client_10</td>\n",
              "      <td>18</td>\n",
              "      <td>798.611111</td>\n",
              "      <td>37.888889</td>\n",
              "      <td>0.000000</td>\n",
              "      <td>0.000000</td>\n",
              "      <td>12.0</td>\n",
              "      <td>4.0</td>\n",
              "      <td>6.444444</td>\n",
              "      <td>15057.0</td>\n",
              "      <td>...</td>\n",
              "      <td>1</td>\n",
              "      <td>18</td>\n",
              "      <td>1</td>\n",
              "      <td>18</td>\n",
              "      <td>1</td>\n",
              "      <td>62</td>\n",
              "      <td>11</td>\n",
              "      <td>301</td>\n",
              "      <td>13/03/1986</td>\n",
              "      <td>0.0</td>\n",
              "    </tr>\n",
              "    <tr>\n",
              "      <th>3</th>\n",
              "      <td>train_Client_100</td>\n",
              "      <td>20</td>\n",
              "      <td>1.200000</td>\n",
              "      <td>0.000000</td>\n",
              "      <td>0.000000</td>\n",
              "      <td>0.000000</td>\n",
              "      <td>6.0</td>\n",
              "      <td>4.0</td>\n",
              "      <td>4.200000</td>\n",
              "      <td>24.0</td>\n",
              "      <td>...</td>\n",
              "      <td>1</td>\n",
              "      <td>20</td>\n",
              "      <td>1</td>\n",
              "      <td>20</td>\n",
              "      <td>1</td>\n",
              "      <td>69</td>\n",
              "      <td>11</td>\n",
              "      <td>105</td>\n",
              "      <td>11/07/1996</td>\n",
              "      <td>0.0</td>\n",
              "    </tr>\n",
              "    <tr>\n",
              "      <th>4</th>\n",
              "      <td>train_Client_1000</td>\n",
              "      <td>14</td>\n",
              "      <td>663.714286</td>\n",
              "      <td>104.857143</td>\n",
              "      <td>117.357143</td>\n",
              "      <td>36.714286</td>\n",
              "      <td>4.0</td>\n",
              "      <td>2.0</td>\n",
              "      <td>3.714286</td>\n",
              "      <td>12917.0</td>\n",
              "      <td>...</td>\n",
              "      <td>1</td>\n",
              "      <td>14</td>\n",
              "      <td>1</td>\n",
              "      <td>14</td>\n",
              "      <td>1</td>\n",
              "      <td>62</td>\n",
              "      <td>11</td>\n",
              "      <td>303</td>\n",
              "      <td>14/10/2014</td>\n",
              "      <td>0.0</td>\n",
              "    </tr>\n",
              "  </tbody>\n",
              "</table>\n",
              "<p>5 rows × 65 columns</p>\n",
              "</div>"
            ],
            "text/plain": [
              "           client_id  transactions_count  consommation_level_1_mean   \n",
              "0     train_Client_0                  35                 352.400000  \\\n",
              "1     train_Client_1                  37                 557.540541   \n",
              "2    train_Client_10                  18                 798.611111   \n",
              "3   train_Client_100                  20                   1.200000   \n",
              "4  train_Client_1000                  14                 663.714286   \n",
              "\n",
              "   consommation_level_2_mean  consommation_level_3_mean   \n",
              "0                  10.571429                   0.000000  \\\n",
              "1                   0.000000                   0.000000   \n",
              "2                  37.888889                   0.000000   \n",
              "3                   0.000000                   0.000000   \n",
              "4                 104.857143                 117.357143   \n",
              "\n",
              "   consommation_level_4_mean  months_number_max  months_number_min   \n",
              "0                   0.000000               12.0                2.0  \\\n",
              "1                   0.000000                8.0                2.0   \n",
              "2                   0.000000               12.0                4.0   \n",
              "3                   0.000000                6.0                4.0   \n",
              "4                  36.714286                4.0                2.0   \n",
              "\n",
              "   months_number_mean  consumption_sum  ...  counter_type_0_nunique   \n",
              "0            4.628571          12704.0  ...                       1  \\\n",
              "1            4.324324          20629.0  ...                       1   \n",
              "2            6.444444          15057.0  ...                       1   \n",
              "3            4.200000             24.0  ...                       1   \n",
              "4            3.714286          12917.0  ...                       1   \n",
              "\n",
              "   counter_type_1_count  counter_type_1_nunique  counter_type_2_count   \n",
              "0                    35                       1                    35  \\\n",
              "1                    37                       1                    37   \n",
              "2                    18                       1                    18   \n",
              "3                    20                       1                    20   \n",
              "4                    14                       1                    14   \n",
              "\n",
              "   counter_type_2_nunique  disrict  client_catg  region  creation_date  target  \n",
              "0                       1       60           11     101     31/12/1994     0.0  \n",
              "1                       1       69           11     107     29/05/2002     0.0  \n",
              "2                       1       62           11     301     13/03/1986     0.0  \n",
              "3                       1       69           11     105     11/07/1996     0.0  \n",
              "4                       1       62           11     303     14/10/2014     0.0  \n",
              "\n",
              "[5 rows x 65 columns]"
            ]
          },
          "execution_count": 9,
          "metadata": {},
          "output_type": "execute_result"
        }
      ],
      "source": [
        "train = pd.read_csv(\"data/df.csv\")\n",
        "train.head()"
      ]
    },
    {
      "cell_type": "markdown",
      "metadata": {},
      "source": [
        "*do with it whatever it is need to be done with it*"
      ]
    },
    {
      "cell_type": "code",
      "execution_count": 10,
      "metadata": {},
      "outputs": [],
      "source": [
        "# Features for feature importance\n",
        "features = list(train.columns)"
      ]
    },
    {
      "cell_type": "markdown",
      "metadata": {},
      "source": [
        "*define X, Y*"
      ]
    },
    {
      "cell_type": "code",
      "execution_count": 12,
      "metadata": {},
      "outputs": [],
      "source": [
        "\n",
        "mask = train.columns[train.dtypes == \"int\"].tolist()\n",
        "#mask"
      ]
    },
    {
      "cell_type": "code",
      "execution_count": 13,
      "metadata": {},
      "outputs": [
        {
          "data": {
            "text/plain": [
              "((135351,), (135351, 62))"
            ]
          },
          "execution_count": 13,
          "metadata": {},
          "output_type": "execute_result"
        }
      ],
      "source": [
        "y = train['target']\n",
        "X = train[mask]\n",
        "X = train.drop(columns=['target', 'client_id', 'creation_date'])\n",
        "\n",
        "\n",
        "y.shape, X.shape"
      ]
    },
    {
      "cell_type": "markdown",
      "metadata": {},
      "source": [
        "### split first, than rebalance the X_train, y_train"
      ]
    },
    {
      "cell_type": "code",
      "execution_count": 14,
      "metadata": {},
      "outputs": [
        {
          "data": {
            "text/plain": [
              "((94745, 62), (94745,))"
            ]
          },
          "execution_count": 14,
          "metadata": {},
          "output_type": "execute_result"
        }
      ],
      "source": [
        "X_train, X_test, y_train,  y_test = train_test_split(X, y,test_size = 0.3)\n",
        "X_train.shape, y_train.shape\n",
        "#X_train\n",
        "#y_train"
      ]
    },
    {
      "cell_type": "code",
      "execution_count": 15,
      "metadata": {},
      "outputs": [
        {
          "name": "stdout",
          "output_type": "stream",
          "text": [
            "Resampled dataset shape Counter({0.0: 89517, 1.0: 89517})\n"
          ]
        }
      ],
      "source": [
        "from imblearn.over_sampling import RandomOverSampler\n",
        "from collections import Counter\n",
        "\n",
        "# Apply RandomOverSampler to balance the dataset\n",
        "os =  RandomOverSampler()\n",
        "X_res, y_res = os.fit_resample(X_train, y_train)\n",
        "X_train = X_res\n",
        "y_train = y_res\n",
        "\n",
        "# New count after balancing -> {0: 900, 1: 900}\n",
        "print('Resampled dataset shape {}'.format(Counter(y_res)))"
      ]
    },
    {
      "cell_type": "markdown",
      "metadata": {},
      "source": [
        "## Classifier: single decision treee"
      ]
    },
    {
      "cell_type": "markdown",
      "metadata": {},
      "source": [
        "*define classifier*"
      ]
    },
    {
      "cell_type": "code",
      "execution_count": 16,
      "metadata": {},
      "outputs": [],
      "source": [
        "from sklearn.tree import DecisionTreeClassifier\n",
        "tree = DecisionTreeClassifier(max_depth = 15, random_state=RSEED)"
      ]
    },
    {
      "cell_type": "markdown",
      "metadata": {},
      "source": [
        "*fit the model*"
      ]
    },
    {
      "cell_type": "code",
      "execution_count": 17,
      "metadata": {},
      "outputs": [
        {
          "name": "stdout",
          "output_type": "stream",
          "text": [
            "Model Accuracy: 0.8779449713462247\n",
            "Decision tree has 4443 nodes with maximum depth 15.\n"
          ]
        }
      ],
      "source": [
        "tree.fit(X_train, y_train)\n",
        "\n",
        "print(f'Model Accuracy: {tree.score(X_train, y_train)}')\n",
        "#print(f'Model Accuracy: {tree.score(X_test, y_test)}')\n",
        "print(f'Decision tree has {tree.tree_.node_count} nodes with maximum depth {tree.tree_.max_depth}.')"
      ]
    },
    {
      "cell_type": "markdown",
      "metadata": {},
      "source": [
        "*plot the tree*"
      ]
    },
    {
      "cell_type": "code",
      "execution_count": null,
      "metadata": {},
      "outputs": [],
      "source": [
        "# Plot desision tree\n",
        "fig = plt.figure(figsize=(25,10))\n",
        "dectree_plot = plot_tree(tree, filled=True)"
      ]
    },
    {
      "cell_type": "markdown",
      "metadata": {},
      "source": [
        "*predict*"
      ]
    },
    {
      "cell_type": "code",
      "execution_count": 20,
      "metadata": {},
      "outputs": [],
      "source": [
        "y_pred_dt = tree.predict(X_test) # y_pred_dt = train_predictions - TODO adjust all containing train_predictions"
      ]
    },
    {
      "cell_type": "markdown",
      "metadata": {},
      "source": [
        "*assess decision tree performance*"
      ]
    },
    {
      "cell_type": "code",
      "execution_count": 21,
      "metadata": {},
      "outputs": [
        {
          "name": "stdout",
          "output_type": "stream",
          "text": [
            "Train ROC AUC Score: 0.9355101818487802\n",
            "Test ROC AUC  Score: 0.6420718591077929\n",
            "--------------------------------------------------------------------------------\n",
            "Baseline ROC AUC: 0.5\n",
            "--------------------------------------------------------------------------------\n",
            "              precision    recall  f1-score   support\n",
            "\n",
            "         0.0       0.96      0.76      0.85     38271\n",
            "         1.0       0.11      0.51      0.19      2335\n",
            "\n",
            "    accuracy                           0.74     40606\n",
            "   macro avg       0.54      0.63      0.52     40606\n",
            "weighted avg       0.91      0.74      0.81     40606\n",
            "\n",
            "--------------------------------------------------------------------------------\n",
            "--------------------------------------------------------------------------------\n"
          ]
        },
        {
          "data": {
            "image/png": "[encoded data removed]",
            "text/plain": [
              "<Figure size 640x480 with 2 Axes>"
            ]
          },
          "metadata": {},
          "output_type": "display_data"
        },
        {
          "data": {
            "image/png": "[encoded data removed]",
            "text/plain": [
              "<Figure size 800x600 with 1 Axes>"
            ]
          },
          "metadata": {},
          "output_type": "display_data"
        }
      ],
      "source": [
        "# Make probability predictions\n",
        "X_train_probs_dt = tree.predict_proba(X_train)[:, 1]\n",
        "X_test_probs_dt = tree.predict_proba(X_test)[:, 1]\n",
        "\n",
        "X_train_predictions_dt = tree.predict(X_train)\n",
        "\n",
        "from sklearn.metrics import precision_score, recall_score, roc_auc_score, roc_curve\n",
        "\n",
        "print(f'Train ROC AUC Score: {roc_auc_score(y_train, X_train_probs_dt)}')\n",
        "print(f'Test ROC AUC  Score: {roc_auc_score(y_test, X_test_probs_dt)}')\n",
        "print(\"--------\"*10)\n",
        "print(f'Baseline ROC AUC: {roc_auc_score(y_test, [1 for _ in range(len(y_test))])}')\n",
        "print(\"--------\"*10)\n",
        "# Print classification report of our model\n",
        "print(classification_report(y_test, y_pred_dt))\n",
        "print(\"--------\"*10)\n",
        "\n",
        "# Evaluate the model with a confusion matrix\n",
        "cm_dt = confusion_matrix(y_test, y_pred_dt)\n",
        "sns.heatmap(cm_dt, cmap='YlGnBu', annot=True, fmt='d', linewidths=.5);\n",
        "\n",
        "from sklearn.ensemble import RandomForestClassifier\n",
        "from sklearn.metrics import precision_score, recall_score, roc_auc_score, roc_curve\n",
        "\n",
        "print(\"--------\"*10)\n",
        "# Plot formatting\n",
        "plt.style.use('fivethirtyeight')\n",
        "plt.rcParams['font.size'] = 18\n",
        "\n",
        "# Calculate false positive rates and true positive rates\n",
        "base_fpr, base_tpr, _ = roc_curve(y_test, [1 for _ in range(len(y_test))])\n",
        "model_fpr, model_tpr, _ = roc_curve(y_test, X_test_probs_dt)\n",
        "\n",
        "plt.figure(figsize = (8, 6))\n",
        "plt.rcParams['font.size'] = 16\n",
        "    \n",
        "# Plot both curves\n",
        "plt.plot(base_fpr, base_tpr, 'b', label = 'baseline')\n",
        "plt.plot(model_fpr, model_tpr, 'r', label = 'model')\n",
        "plt.legend()\n",
        "plt.xlabel('False Positive Rate'); \n",
        "plt.ylabel('True Positive Rate'); plt.title('ROC Curves')\n",
        "plt.show()\n"
      ]
    },
    {
      "cell_type": "markdown",
      "metadata": {},
      "source": [
        "## Classifier: forest"
      ]
    },
    {
      "cell_type": "markdown",
      "metadata": {},
      "source": [
        "*classifier*"
      ]
    },
    {
      "cell_type": "code",
      "execution_count": 22,
      "metadata": {},
      "outputs": [
        {
          "name": "stderr",
          "output_type": "stream",
          "text": [
            "[Parallel(n_jobs=-1)]: Using backend ThreadingBackend with 8 concurrent workers.\n",
            "[Parallel(n_jobs=-1)]: Done  34 tasks      | elapsed:    8.2s\n",
            "[Parallel(n_jobs=-1)]: Done 100 out of 100 | elapsed:   19.7s finished\n",
            "[Parallel(n_jobs=8)]: Using backend ThreadingBackend with 8 concurrent workers.\n",
            "[Parallel(n_jobs=8)]: Done  34 tasks      | elapsed:    0.1s\n",
            "[Parallel(n_jobs=8)]: Done 100 out of 100 | elapsed:    0.3s finished\n"
          ]
        }
      ],
      "source": [
        "from sklearn.ensemble import RandomForestClassifier\n",
        "\n",
        "# Create the model with 100 trees\n",
        "rdfo = RandomForestClassifier(n_estimators=100, \n",
        "                               random_state=RSEED, \n",
        "                               max_features = 'sqrt',\n",
        "                               n_jobs=-1, verbose = 1)\n",
        "\n",
        "# Fit on training data\n",
        "rdfo.fit(X_train, y_train)\n",
        "\n",
        "# predict\n",
        "y_pred_rdfo = rdfo.predict(X_test)"
      ]
    },
    {
      "cell_type": "markdown",
      "metadata": {},
      "source": [
        "*assess*"
      ]
    },
    {
      "cell_type": "code",
      "execution_count": 23,
      "metadata": {},
      "outputs": [
        {
          "name": "stderr",
          "output_type": "stream",
          "text": [
            "[Parallel(n_jobs=8)]: Using backend ThreadingBackend with 8 concurrent workers.\n",
            "[Parallel(n_jobs=8)]: Done  34 tasks      | elapsed:    0.6s\n",
            "[Parallel(n_jobs=8)]: Done 100 out of 100 | elapsed:    2.1s finished\n",
            "[Parallel(n_jobs=8)]: Using backend ThreadingBackend with 8 concurrent workers.\n",
            "[Parallel(n_jobs=8)]: Done  34 tasks      | elapsed:    0.1s\n",
            "[Parallel(n_jobs=8)]: Done 100 out of 100 | elapsed:    0.4s finished\n",
            "[Parallel(n_jobs=8)]: Using backend ThreadingBackend with 8 concurrent workers.\n",
            "[Parallel(n_jobs=8)]: Done  34 tasks      | elapsed:    0.6s\n",
            "[Parallel(n_jobs=8)]: Done 100 out of 100 | elapsed:    2.4s finished\n"
          ]
        },
        {
          "name": "stdout",
          "output_type": "stream",
          "text": [
            "Train ROC AUC Score: 0.999999714911221\n",
            "Test ROC AUC  Score: 0.7351338087773339\n",
            "--------------------------------------------------------------------------------\n",
            "Baseline ROC AUC: 0.5\n",
            "--------------------------------------------------------------------------------\n",
            "              precision    recall  f1-score   support\n",
            "\n",
            "         0.0       0.94      1.00      0.97     38271\n",
            "         1.0       0.38      0.01      0.03      2335\n",
            "\n",
            "    accuracy                           0.94     40606\n",
            "   macro avg       0.66      0.51      0.50     40606\n",
            "weighted avg       0.91      0.94      0.92     40606\n",
            "\n",
            "--------------------------------------------------------------------------------\n",
            "--------------------------------------------------------------------------------\n"
          ]
        },
        {
          "data": {
            "image/png": "[encoded data removed]",
            "text/plain": [
              "<Figure size 640x480 with 2 Axes>"
            ]
          },
          "metadata": {},
          "output_type": "display_data"
        },
        {
          "data": {
            "image/png": "[encoded data removed]",
            "text/plain": [
              "<Figure size 800x600 with 1 Axes>"
            ]
          },
          "metadata": {},
          "output_type": "display_data"
        }
      ],
      "source": [
        "# adjust variables\n",
        "model = rdfo\n",
        "y_pred = y_pred_rdfo\n",
        "\n",
        "# Make probability predictions\n",
        "X_train_probs = model.predict_proba(X_train)[:, 1]\n",
        "X_test_probs = model.predict_proba(X_test)[:, 1]\n",
        "\n",
        "X_train_predictions = model.predict(X_train)\n",
        "\n",
        "from sklearn.metrics import precision_score, recall_score, roc_auc_score, roc_curve\n",
        "\n",
        "print(f'Train ROC AUC Score: {roc_auc_score(y_train, X_train_probs)}')\n",
        "print(f'Test ROC AUC  Score: {roc_auc_score(y_test, X_test_probs)}')\n",
        "print(\"--------\"*10)\n",
        "print(f'Baseline ROC AUC: {roc_auc_score(y_test, [1 for _ in range(len(y_test))])}')\n",
        "print(\"--------\"*10)\n",
        "# Print classification report of our model\n",
        "print(classification_report(y_test, y_pred))\n",
        "print(\"--------\"*10)\n",
        "\n",
        "# Evaluate the model with a confusion matrix\n",
        "cm = confusion_matrix(y_test, y_pred)\n",
        "sns.heatmap(cm, cmap='YlGnBu', annot=True, fmt='d', linewidths=.5);\n",
        "\n",
        "\n",
        "from sklearn.ensemble import RandomForestClassifier\n",
        "from sklearn.metrics import precision_score, recall_score, roc_auc_score, roc_curve\n",
        "\n",
        "print(\"--------\"*10)\n",
        "# Plot formatting\n",
        "plt.style.use('fivethirtyeight')\n",
        "plt.rcParams['font.size'] = 18\n",
        "\n",
        "# Calculate false positive rates and true positive rates\n",
        "base_fpr, base_tpr, _ = roc_curve(y_test, [1 for _ in range(len(y_test))])\n",
        "model_fpr, model_tpr, _ = roc_curve(y_test, X_test_probs)\n",
        "\n",
        "plt.figure(figsize = (8, 6))\n",
        "plt.rcParams['font.size'] = 16\n",
        "    \n",
        "# Plot both curves\n",
        "plt.plot(base_fpr, base_tpr, 'b', label = 'baseline')\n",
        "plt.plot(model_fpr, model_tpr, 'r', label = 'model')\n",
        "plt.legend()\n",
        "plt.xlabel('False Positive Rate'); \n",
        "plt.ylabel('True Positive Rate'); plt.title('ROC Curves')\n",
        "plt.show()"
      ]
    },
    {
      "cell_type": "markdown",
      "metadata": {},
      "source": [
        "## Classifier: LGBM "
      ]
    },
    {
      "cell_type": "markdown",
      "metadata": {},
      "source": [
        "The LGBMClassifier is a classifier based on the LightGBM gradient boosting framework. LightGBM is a powerful and efficient gradient boosting library designed for speed and performance."
      ]
    },
    {
      "cell_type": "code",
      "execution_count": null,
      "metadata": {},
      "outputs": [],
      "source": [
        "cm_rdfo = confusion_matrix(y_test, y_pred_rdfo)\n",
        "sns.heatmap(cm_rdfo, cmap='YlGnBu', annot=True, fmt='d', linewidths=.5);\n",
        "\n",
        "model_lgbm = LGBMClassifier(boosting_type='gbdt', num_iterationss=500)\n",
        "\n",
        "model_lgbm.fit(X_train, y_train)\n",
        "\n",
        "y_pred_lgbm = model_lgbm.predict(X_test)\n",
        "#y_pred_lgbm = pd.DataFrame(y_pred_lgbm, columns=['target'])\n",
        "#y_pred_lgbm.head()\n",
        "\n",
        "cm_lgbm = confusion_matrix(y_test, y_pred_lgbm)\n",
        "sns.heatmap(cm_lgbm, cmap='YlGnBu', annot=True, fmt='d', linewidths=.5);"
      ]
    },
    {
      "cell_type": "markdown",
      "metadata": {},
      "source": [
        "## Classifier KNN"
      ]
    },
    {
      "cell_type": "code",
      "execution_count": 116,
      "metadata": {},
      "outputs": [
        {
          "name": "stdout",
          "output_type": "stream",
          "text": [
            "--------------------------------------------------------------------------------\n",
            "Train ROC AUC Score: 0.9998022008346519\n",
            "Test ROC AUC  Score: 0.9634441723494809\n",
            "--------------------------------------------------------------------------------\n",
            "Baseline ROC AUC: 0.5\n",
            "--------------------------------------------------------------------------------\n",
            "              precision    recall  f1-score   support\n",
            "\n",
            "         0.0       1.00      0.81      0.89     38323\n",
            "         1.0       0.84      1.00      0.91     38350\n",
            "\n",
            "    accuracy                           0.90     76673\n",
            "   macro avg       0.92      0.90      0.90     76673\n",
            "weighted avg       0.92      0.90      0.90     76673\n",
            "\n",
            "--------------------------------------------------------------------------------\n",
            "--------------------------------------------------------------------------------\n"
          ]
        },
        {
          "data": {
            "image/png": "[encoded data removed]",
            "text/plain": [
              "<Figure size 640x480 with 2 Axes>"
            ]
          },
          "metadata": {},
          "output_type": "display_data"
        },
        {
          "data": {
            "image/png": "[encoded data removed]",
            "text/plain": [
              "<Figure size 800x600 with 1 Axes>"
            ]
          },
          "metadata": {},
          "output_type": "display_data"
        }
      ],
      "source": [
        "from sklearn.neighbors import KNeighborsClassifier\n",
        "knn = KNeighborsClassifier(n_neighbors=5, metric='euclidean')\n",
        "\n",
        "knn.fit(X_train, np.ravel(y_train))\n",
        "\n",
        "y_pred_knn = knn.predict(X_test)\n",
        "\n",
        "#sns.heatmap(confusion_matrix(y_test, y_pred), annot=True, cmap='YlGn');\n",
        "\n",
        "model = knn\n",
        "y_pred = y_pred_knn\n",
        "\n",
        "# Make probability predictions\n",
        "X_train_probs = model.predict_proba(X_train)[:, 1]\n",
        "X_test_probs = model.predict_proba(X_test)[:, 1]\n",
        "\n",
        "X_train_predictions = model.predict(X_train)\n",
        "\n",
        "\n",
        "print(\"--------\"*10)\n",
        "from sklearn.metrics import precision_score, recall_score, roc_auc_score, roc_curve\n",
        "\n",
        "print(f'Train ROC AUC Score: {roc_auc_score(y_train, X_train_probs)}')\n",
        "print(f'Test ROC AUC  Score: {roc_auc_score(y_test, X_test_probs)}')\n",
        "print(\"--------\"*10)\n",
        "print(f'Baseline ROC AUC: {roc_auc_score(y_test, [1 for _ in range(len(y_test))])}')\n",
        "print(\"--------\"*10)\n",
        "# Print classification report of our model\n",
        "print(classification_report(y_test, y_pred))\n",
        "print(\"--------\"*10)\n",
        "\n",
        "# Evaluate the model with a confusion matrix\n",
        "cm = confusion_matrix(y_test, y_pred)\n",
        "sns.heatmap(cm, cmap='YlGnBu', annot=True, fmt='d', linewidths=.5);\n",
        "\n",
        "\n",
        "from sklearn.metrics import precision_score, recall_score, roc_auc_score, roc_curve\n",
        "\n",
        "print(\"--------\"*10)\n",
        "# Plot formatting\n",
        "plt.style.use('fivethirtyeight')\n",
        "plt.rcParams['font.size'] = 18\n",
        "\n",
        "# Calculate false positive rates and true positive rates\n",
        "base_fpr, base_tpr, _ = roc_curve(y_test, [1 for _ in range(len(y_test))])\n",
        "model_fpr, model_tpr, _ = roc_curve(y_test, X_test_probs)\n",
        "\n",
        "plt.figure(figsize = (8, 6))\n",
        "plt.rcParams['font.size'] = 16\n",
        "    \n",
        "# Plot both curves\n",
        "plt.plot(base_fpr, base_tpr, 'b', label = 'baseline')\n",
        "plt.plot(model_fpr, model_tpr, 'r', label = 'model')\n",
        "plt.legend()\n",
        "plt.xlabel('False Positive Rate'); \n",
        "plt.ylabel('True Positive Rate'); plt.title('ROC Curves')\n",
        "plt.show()"
      ]
    },
    {
      "cell_type": "markdown",
      "metadata": {},
      "source": [
        "## Grid Search"
      ]
    },
    {
      "cell_type": "code",
      "execution_count": null,
      "metadata": {},
      "outputs": [],
      "source": [
        "from sklearn.model_selection import GridSearchCV\n",
        "# Define parameter grid for randomized search\n",
        "param_grid = {\"n_neighbors\" : [2,4,3,5,10], #this actually defines the model you use\n",
        "              \"weights\" : [\"uniform\", \"distance\"],\n",
        "              \"p\" : [1, 2, 3],\n",
        "              \"algorithm\": [\"ball_tree\", \"kd_tree\", \"brute\"]\n",
        "             }\n",
        "\n",
        "gs = GridSearchCV(\n",
        "    estimator=KNeighborsClassifier(), \n",
        "    param_grid=param_grid,\n",
        "    scoring=\"accuracy\",\n",
        "    n_jobs=-1,\n",
        "    cv=5,\n",
        "    verbose=5\n",
        ")\n",
        "\n",
        "gs.fit(X_train, y_train)\n",
        "\n",
        "# Best score\n",
        "print('Best score:', round(gs.best_score_, 3))\n",
        "\n",
        "# Best parameters\n",
        "print('Best parameters:', gs.best_params_)"
      ]
    },
    {
      "cell_type": "markdown",
      "metadata": {},
      "source": [
        "## Random Search"
      ]
    },
    {
      "cell_type": "markdown",
      "metadata": {},
      "source": [
        "*classifier & estimator*"
      ]
    },
    {
      "cell_type": "code",
      "execution_count": 27,
      "metadata": {},
      "outputs": [
        {
          "name": "stdout",
          "output_type": "stream",
          "text": [
            "Fitting 8 folds for each of 10 candidates, totalling 80 fits\n"
          ]
        },
        {
          "name": "stderr",
          "output_type": "stream",
          "text": [
            "/Users/wieslawgrzesik/Projects/Data Science Bootcamp/repositories/ML_project_fraud_detection/.venv/lib/python3.11/site-packages/sklearn/ensemble/_forest.py:424: FutureWarning: `max_features='auto'` has been deprecated in 1.1 and will be removed in 1.3. To keep the past behaviour, explicitly set `max_features='sqrt'` or remove this parameter as it is also the default value for RandomForestClassifiers and ExtraTreesClassifiers.\n",
            "  warn(\n",
            "/Users/wieslawgrzesik/Projects/Data Science Bootcamp/repositories/ML_project_fraud_detection/.venv/lib/python3.11/site-packages/sklearn/ensemble/_forest.py:424: FutureWarning: `max_features='auto'` has been deprecated in 1.1 and will be removed in 1.3. To keep the past behaviour, explicitly set `max_features='sqrt'` or remove this parameter as it is also the default value for RandomForestClassifiers and ExtraTreesClassifiers.\n",
            "  warn(\n",
            "/Users/wieslawgrzesik/Projects/Data Science Bootcamp/repositories/ML_project_fraud_detection/.venv/lib/python3.11/site-packages/sklearn/ensemble/_forest.py:424: FutureWarning: `max_features='auto'` has been deprecated in 1.1 and will be removed in 1.3. To keep the past behaviour, explicitly set `max_features='sqrt'` or remove this parameter as it is also the default value for RandomForestClassifiers and ExtraTreesClassifiers.\n",
            "  warn(\n",
            "/Users/wieslawgrzesik/Projects/Data Science Bootcamp/repositories/ML_project_fraud_detection/.venv/lib/python3.11/site-packages/sklearn/ensemble/_forest.py:424: FutureWarning: `max_features='auto'` has been deprecated in 1.1 and will be removed in 1.3. To keep the past behaviour, explicitly set `max_features='sqrt'` or remove this parameter as it is also the default value for RandomForestClassifiers and ExtraTreesClassifiers.\n",
            "  warn(\n",
            "/Users/wieslawgrzesik/Projects/Data Science Bootcamp/repositories/ML_project_fraud_detection/.venv/lib/python3.11/site-packages/sklearn/ensemble/_forest.py:424: FutureWarning: `max_features='auto'` has been deprecated in 1.1 and will be removed in 1.3. To keep the past behaviour, explicitly set `max_features='sqrt'` or remove this parameter as it is also the default value for RandomForestClassifiers and ExtraTreesClassifiers.\n",
            "  warn(\n",
            "/Users/wieslawgrzesik/Projects/Data Science Bootcamp/repositories/ML_project_fraud_detection/.venv/lib/python3.11/site-packages/sklearn/ensemble/_forest.py:424: FutureWarning: `max_features='auto'` has been deprecated in 1.1 and will be removed in 1.3. To keep the past behaviour, explicitly set `max_features='sqrt'` or remove this parameter as it is also the default value for RandomForestClassifiers and ExtraTreesClassifiers.\n",
            "  warn(\n",
            "/Users/wieslawgrzesik/Projects/Data Science Bootcamp/repositories/ML_project_fraud_detection/.venv/lib/python3.11/site-packages/sklearn/ensemble/_forest.py:424: FutureWarning: `max_features='auto'` has been deprecated in 1.1 and will be removed in 1.3. To keep the past behaviour, explicitly set `max_features='sqrt'` or remove this parameter as it is also the default value for RandomForestClassifiers and ExtraTreesClassifiers.\n",
            "  warn(\n",
            "/Users/wieslawgrzesik/Projects/Data Science Bootcamp/repositories/ML_project_fraud_detection/.venv/lib/python3.11/site-packages/sklearn/ensemble/_forest.py:424: FutureWarning: `max_features='auto'` has been deprecated in 1.1 and will be removed in 1.3. To keep the past behaviour, explicitly set `max_features='sqrt'` or remove this parameter as it is also the default value for RandomForestClassifiers and ExtraTreesClassifiers.\n",
            "  warn(\n"
          ]
        },
        {
          "name": "stdout",
          "output_type": "stream",
          "text": [
            "[CV 4/8] END bootstrap=True, max_depth=5, max_features=auto, n_estimators=20;, score=0.745 total time=  11.6s\n",
            "[CV 2/8] END bootstrap=True, max_depth=5, max_features=auto, n_estimators=20;, score=0.748 total time=  11.6s\n",
            "[CV 7/8] END bootstrap=True, max_depth=5, max_features=auto, n_estimators=20;, score=0.758 total time=  11.7s\n",
            "[CV 6/8] END bootstrap=True, max_depth=5, max_features=auto, n_estimators=20;, score=0.750 total time=  11.7s\n",
            "[CV 3/8] END bootstrap=True, max_depth=5, max_features=auto, n_estimators=20;, score=0.749 total time=  11.6s\n",
            "[CV 1/8] END bootstrap=True, max_depth=5, max_features=auto, n_estimators=20;, score=0.748 total time=  11.7s\n",
            "[CV 5/8] END bootstrap=True, max_depth=5, max_features=auto, n_estimators=20;, score=0.751 total time=  11.8s\n",
            "[CV 8/8] END bootstrap=True, max_depth=5, max_features=auto, n_estimators=20;, score=0.752 total time=  11.9s\n",
            "[CV 3/8] END bootstrap=True, max_depth=5, max_features=None, n_estimators=70;, score=0.752 total time= 3.5min\n",
            "[CV 7/8] END bootstrap=True, max_depth=5, max_features=None, n_estimators=70;, score=0.758 total time= 3.5min\n",
            "[CV 8/8] END bootstrap=True, max_depth=5, max_features=None, n_estimators=70;, score=0.756 total time= 3.5min\n",
            "[CV 5/8] END bootstrap=True, max_depth=5, max_features=None, n_estimators=70;, score=0.753 total time= 3.5min\n",
            "[CV 2/8] END bootstrap=True, max_depth=5, max_features=None, n_estimators=70;, score=0.752 total time= 3.5min\n",
            "[CV 1/8] END bootstrap=True, max_depth=5, max_features=None, n_estimators=70;, score=0.753 total time= 3.5min\n",
            "[CV 4/8] END bootstrap=True, max_depth=5, max_features=None, n_estimators=70;, score=0.748 total time= 3.5min\n",
            "[CV 6/8] END bootstrap=True, max_depth=5, max_features=None, n_estimators=70;, score=0.752 total time= 3.5min\n",
            "[CV 1/8] END bootstrap=True, max_depth=3, max_features=sqrt, n_estimators=80;, score=0.727 total time=  19.4s\n",
            "[CV 2/8] END bootstrap=True, max_depth=3, max_features=sqrt, n_estimators=80;, score=0.728 total time=  19.7s\n",
            "[CV 3/8] END bootstrap=True, max_depth=3, max_features=sqrt, n_estimators=80;, score=0.727 total time=  19.5s\n",
            "[CV 4/8] END bootstrap=True, max_depth=3, max_features=sqrt, n_estimators=80;, score=0.723 total time=  19.5s\n",
            "[CV 5/8] END bootstrap=True, max_depth=3, max_features=sqrt, n_estimators=80;, score=0.730 total time=  19.6s\n",
            "[CV 6/8] END bootstrap=True, max_depth=3, max_features=sqrt, n_estimators=80;, score=0.727 total time=  19.6s\n",
            "[CV 7/8] END bootstrap=True, max_depth=3, max_features=sqrt, n_estimators=80;, score=0.734 total time=  19.5s\n",
            "[CV 8/8] END bootstrap=True, max_depth=3, max_features=sqrt, n_estimators=80;, score=0.727 total time=  19.3s\n",
            "[CV 2/8] END bootstrap=True, max_depth=9, max_features=sqrt, n_estimators=50;, score=0.826 total time=  36.1s\n",
            "[CV 3/8] END bootstrap=True, max_depth=9, max_features=sqrt, n_estimators=50;, score=0.827 total time=  36.1s\n",
            "[CV 1/8] END bootstrap=True, max_depth=9, max_features=sqrt, n_estimators=50;, score=0.828 total time=  36.6s\n",
            "[CV 4/8] END bootstrap=True, max_depth=9, max_features=sqrt, n_estimators=50;, score=0.824 total time=  36.2s\n",
            "[CV 6/8] END bootstrap=True, max_depth=9, max_features=sqrt, n_estimators=50;, score=0.825 total time=  36.5s\n",
            "[CV 5/8] END bootstrap=True, max_depth=9, max_features=sqrt, n_estimators=50;, score=0.828 total time=  36.9s\n",
            "[CV 7/8] END bootstrap=True, max_depth=9, max_features=sqrt, n_estimators=50;, score=0.832 total time=  36.6s\n",
            "[CV 8/8] END bootstrap=True, max_depth=9, max_features=sqrt, n_estimators=50;, score=0.829 total time=  36.6s\n",
            "[CV 1/8] END bootstrap=True, max_depth=4, max_features=sqrt, n_estimators=60;, score=0.737 total time=  21.6s\n",
            "[CV 2/8] END bootstrap=True, max_depth=4, max_features=sqrt, n_estimators=60;, score=0.739 total time=  21.8s\n",
            "[CV 3/8] END bootstrap=True, max_depth=4, max_features=sqrt, n_estimators=60;, score=0.737 total time=  21.5s\n",
            "[CV 4/8] END bootstrap=True, max_depth=4, max_features=sqrt, n_estimators=60;, score=0.734 total time=  21.5s\n",
            "[CV 5/8] END bootstrap=True, max_depth=4, max_features=sqrt, n_estimators=60;, score=0.740 total time=  21.4s\n",
            "[CV 6/8] END bootstrap=True, max_depth=4, max_features=sqrt, n_estimators=60;, score=0.737 total time=  21.1s\n",
            "[CV 7/8] END bootstrap=True, max_depth=4, max_features=sqrt, n_estimators=60;, score=0.743 total time=  21.1s\n",
            "[CV 8/8] END bootstrap=True, max_depth=4, max_features=sqrt, n_estimators=60;, score=0.737 total time=  20.1s\n",
            "[CV 4/8] END bootstrap=True, max_depth=3, max_features=sqrt, n_estimators=90;, score=0.724 total time=  21.4s\n",
            "[CV 1/8] END bootstrap=True, max_depth=3, max_features=sqrt, n_estimators=90;, score=0.727 total time=  21.5s\n",
            "[CV 5/8] END bootstrap=True, max_depth=3, max_features=sqrt, n_estimators=90;, score=0.730 total time=  21.6s\n",
            "[CV 3/8] END bootstrap=True, max_depth=3, max_features=sqrt, n_estimators=90;, score=0.727 total time=  21.7s\n",
            "[CV 8/8] END bootstrap=True, max_depth=3, max_features=sqrt, n_estimators=90;, score=0.727 total time=  21.7s\n",
            "[CV 6/8] END bootstrap=True, max_depth=3, max_features=sqrt, n_estimators=90;, score=0.727 total time=  21.7s\n",
            "[CV 7/8] END bootstrap=True, max_depth=3, max_features=sqrt, n_estimators=90;, score=0.734 total time=  21.8s\n",
            "[CV 2/8] END bootstrap=True, max_depth=3, max_features=sqrt, n_estimators=90;, score=0.728 total time=  21.8s\n",
            "[CV 1/8] END bootstrap=True, max_depth=14, max_features=sqrt, n_estimators=80;, score=0.969 total time= 1.1min\n"
          ]
        },
        {
          "name": "stderr",
          "output_type": "stream",
          "text": [
            "/Users/wieslawgrzesik/Projects/Data Science Bootcamp/repositories/ML_project_fraud_detection/.venv/lib/python3.11/site-packages/sklearn/ensemble/_forest.py:424: FutureWarning: `max_features='auto'` has been deprecated in 1.1 and will be removed in 1.3. To keep the past behaviour, explicitly set `max_features='sqrt'` or remove this parameter as it is also the default value for RandomForestClassifiers and ExtraTreesClassifiers.\n",
            "  warn(\n"
          ]
        },
        {
          "name": "stdout",
          "output_type": "stream",
          "text": [
            "[CV 2/8] END bootstrap=True, max_depth=14, max_features=sqrt, n_estimators=80;, score=0.969 total time= 1.1min\n"
          ]
        },
        {
          "name": "stderr",
          "output_type": "stream",
          "text": [
            "/Users/wieslawgrzesik/Projects/Data Science Bootcamp/repositories/ML_project_fraud_detection/.venv/lib/python3.11/site-packages/sklearn/ensemble/_forest.py:424: FutureWarning: `max_features='auto'` has been deprecated in 1.1 and will be removed in 1.3. To keep the past behaviour, explicitly set `max_features='sqrt'` or remove this parameter as it is also the default value for RandomForestClassifiers and ExtraTreesClassifiers.\n",
            "  warn(\n"
          ]
        },
        {
          "name": "stdout",
          "output_type": "stream",
          "text": [
            "[CV 3/8] END bootstrap=True, max_depth=14, max_features=sqrt, n_estimators=80;, score=0.969 total time= 1.2min\n",
            "[CV 7/8] END bootstrap=True, max_depth=14, max_features=sqrt, n_estimators=80;, score=0.971 total time= 1.2min\n",
            "[CV 8/8] END bootstrap=True, max_depth=14, max_features=sqrt, n_estimators=80;, score=0.970 total time= 1.2min\n",
            "[CV 5/8] END bootstrap=True, max_depth=14, max_features=sqrt, n_estimators=80;, score=0.970 total time= 1.2min\n",
            "[CV 6/8] END bootstrap=True, max_depth=14, max_features=sqrt, n_estimators=80;, score=0.969 total time= 1.2min\n",
            "[CV 4/8] END bootstrap=True, max_depth=14, max_features=sqrt, n_estimators=80;, score=0.971 total time= 1.2min\n"
          ]
        },
        {
          "name": "stderr",
          "output_type": "stream",
          "text": [
            "/Users/wieslawgrzesik/Projects/Data Science Bootcamp/repositories/ML_project_fraud_detection/.venv/lib/python3.11/site-packages/sklearn/ensemble/_forest.py:424: FutureWarning: `max_features='auto'` has been deprecated in 1.1 and will be removed in 1.3. To keep the past behaviour, explicitly set `max_features='sqrt'` or remove this parameter as it is also the default value for RandomForestClassifiers and ExtraTreesClassifiers.\n",
            "  warn(\n",
            "/Users/wieslawgrzesik/Projects/Data Science Bootcamp/repositories/ML_project_fraud_detection/.venv/lib/python3.11/site-packages/sklearn/ensemble/_forest.py:424: FutureWarning: `max_features='auto'` has been deprecated in 1.1 and will be removed in 1.3. To keep the past behaviour, explicitly set `max_features='sqrt'` or remove this parameter as it is also the default value for RandomForestClassifiers and ExtraTreesClassifiers.\n",
            "  warn(\n",
            "/Users/wieslawgrzesik/Projects/Data Science Bootcamp/repositories/ML_project_fraud_detection/.venv/lib/python3.11/site-packages/sklearn/ensemble/_forest.py:424: FutureWarning: `max_features='auto'` has been deprecated in 1.1 and will be removed in 1.3. To keep the past behaviour, explicitly set `max_features='sqrt'` or remove this parameter as it is also the default value for RandomForestClassifiers and ExtraTreesClassifiers.\n",
            "  warn(\n",
            "/Users/wieslawgrzesik/Projects/Data Science Bootcamp/repositories/ML_project_fraud_detection/.venv/lib/python3.11/site-packages/sklearn/ensemble/_forest.py:424: FutureWarning: `max_features='auto'` has been deprecated in 1.1 and will be removed in 1.3. To keep the past behaviour, explicitly set `max_features='sqrt'` or remove this parameter as it is also the default value for RandomForestClassifiers and ExtraTreesClassifiers.\n",
            "  warn(\n",
            "/Users/wieslawgrzesik/Projects/Data Science Bootcamp/repositories/ML_project_fraud_detection/.venv/lib/python3.11/site-packages/sklearn/ensemble/_forest.py:424: FutureWarning: `max_features='auto'` has been deprecated in 1.1 and will be removed in 1.3. To keep the past behaviour, explicitly set `max_features='sqrt'` or remove this parameter as it is also the default value for RandomForestClassifiers and ExtraTreesClassifiers.\n",
            "  warn(\n",
            "/Users/wieslawgrzesik/Projects/Data Science Bootcamp/repositories/ML_project_fraud_detection/.venv/lib/python3.11/site-packages/sklearn/ensemble/_forest.py:424: FutureWarning: `max_features='auto'` has been deprecated in 1.1 and will be removed in 1.3. To keep the past behaviour, explicitly set `max_features='sqrt'` or remove this parameter as it is also the default value for RandomForestClassifiers and ExtraTreesClassifiers.\n",
            "  warn(\n"
          ]
        },
        {
          "name": "stdout",
          "output_type": "stream",
          "text": [
            "[CV 1/8] END bootstrap=False, max_depth=17, max_features=auto, n_estimators=30;, score=0.994 total time=  42.2s\n",
            "[CV 2/8] END bootstrap=False, max_depth=17, max_features=auto, n_estimators=30;, score=0.994 total time=  42.5s\n",
            "[CV 1/8] END bootstrap=False, max_depth=3, max_features=sqrt, n_estimators=10;, score=0.724 total time=   4.0s\n",
            "[CV 3/8] END bootstrap=False, max_depth=17, max_features=auto, n_estimators=30;, score=0.994 total time=  42.2s\n",
            "[CV 5/8] END bootstrap=False, max_depth=17, max_features=auto, n_estimators=30;, score=0.994 total time=  42.3s\n",
            "[CV 4/8] END bootstrap=False, max_depth=17, max_features=auto, n_estimators=30;, score=0.995 total time=  42.8s\n",
            "[CV 6/8] END bootstrap=False, max_depth=17, max_features=auto, n_estimators=30;, score=0.995 total time=  42.8s\n",
            "[CV 7/8] END bootstrap=False, max_depth=17, max_features=auto, n_estimators=30;, score=0.994 total time=  42.7s\n",
            "[CV 2/8] END bootstrap=False, max_depth=3, max_features=sqrt, n_estimators=10;, score=0.726 total time=   4.2s\n",
            "[CV 8/8] END bootstrap=False, max_depth=17, max_features=auto, n_estimators=30;, score=0.994 total time=  43.3s\n",
            "[CV 3/8] END bootstrap=False, max_depth=3, max_features=sqrt, n_estimators=10;, score=0.726 total time=   4.2s\n",
            "[CV 4/8] END bootstrap=False, max_depth=3, max_features=sqrt, n_estimators=10;, score=0.720 total time=   4.0s\n",
            "[CV 5/8] END bootstrap=False, max_depth=3, max_features=sqrt, n_estimators=10;, score=0.728 total time=   4.0s\n",
            "[CV 6/8] END bootstrap=False, max_depth=3, max_features=sqrt, n_estimators=10;, score=0.725 total time=   4.0s\n",
            "[CV 7/8] END bootstrap=False, max_depth=3, max_features=sqrt, n_estimators=10;, score=0.732 total time=   4.0s\n",
            "[CV 8/8] END bootstrap=False, max_depth=3, max_features=sqrt, n_estimators=10;, score=0.726 total time=   4.0s\n",
            "[CV 1/8] END bootstrap=True, max_depth=6, max_features=None, n_estimators=20;, score=0.768 total time= 1.2min\n",
            "[CV 2/8] END bootstrap=True, max_depth=6, max_features=None, n_estimators=20;, score=0.768 total time= 1.2min\n",
            "[CV 3/8] END bootstrap=True, max_depth=6, max_features=None, n_estimators=20;, score=0.769 total time= 1.2min\n",
            "[CV 4/8] END bootstrap=True, max_depth=6, max_features=None, n_estimators=20;, score=0.764 total time= 1.2min\n",
            "[CV 5/8] END bootstrap=True, max_depth=6, max_features=None, n_estimators=20;, score=0.769 total time= 1.2min\n",
            "[CV 7/8] END bootstrap=True, max_depth=6, max_features=None, n_estimators=20;, score=0.773 total time= 1.2min\n",
            "[CV 8/8] END bootstrap=True, max_depth=6, max_features=None, n_estimators=20;, score=0.773 total time= 1.2min\n",
            "[CV 6/8] END bootstrap=True, max_depth=6, max_features=None, n_estimators=20;, score=0.768 total time= 1.2min\n",
            "Best score: 0.994\n",
            "Best parameters: {'n_estimators': 30, 'max_features': 'auto', 'max_depth': 17, 'bootstrap': False}\n"
          ]
        }
      ],
      "source": [
        "from sklearn.model_selection import RandomizedSearchCV\n",
        "\n",
        "# Hyperparameter grid for forest\n",
        "param_grid = {\n",
        "    'n_estimators': list(range(10, 100, 10)),\n",
        "    'max_depth': list(range(1, 21)),\n",
        "    'max_features': ['auto', 'sqrt', None],\n",
        "    #'max_leaf_nodes': list(range(10, 51)),\n",
        "    #'min_samples_split': list(range(2, 11, 2)),\n",
        "    'bootstrap': [True, False]\n",
        "}\n",
        "'''\n",
        "# KNN param grid\n",
        "param_grid = {\"n_neighbors\" : [2,4,3,5,10], #this actually defines the model you use\n",
        "              \"weights\" : [\"uniform\", \"distance\"],\n",
        "              \"p\" : [1, 2, 3],\n",
        "              \"algorithm\": [\"ball_tree\", \"kd_tree\", \"brute\"]\n",
        "             }\n",
        "\n",
        "# Logistic Regression param grid\n",
        "param_grid = {\n",
        "    'penalty': ['l1', 'l2'],  # Regularization penalty (L1 or L2)\n",
        "    'C': [0.001, 0.01, 0.1, 1.0, 10.0],  # Inverse of regularization strength\n",
        "    'solver': ['liblinear', 'lbfgs', 'saga'],  # Algorithm to use for optimization\n",
        "    'max_iter': [100, 200, 300]  # Maximum number of iterations for optimization\n",
        "}\n",
        "'''\n",
        "\n",
        "# Estimator for use in random search\n",
        "estimator = RandomForestClassifier(random_state = RSEED)\n",
        "#estimator =  KNeighborsClassifier()\n",
        "#estimator = LogisticRegression()\n",
        "\n",
        "# Create the random search model\n",
        "rs = RandomizedSearchCV(estimator, param_grid, n_jobs = -1, \n",
        "                        scoring = 'roc_auc', cv = 8,\n",
        "                        n_iter = 10, verbose = 5, random_state=RSEED)\n",
        "\n",
        "rs.fit(X_train, y_train)\n",
        "\n",
        "# Best score\n",
        "print('Best score:', round(rs.best_score_, 3))\n",
        "# Best parameters\n",
        "print('Best parameters:', rs.best_params_)\n",
        "\n",
        "\n",
        "best_model = rs.best_estimator_\n",
        "\n",
        "y_pred_rs = best_model.predict(X_test)"
      ]
    },
    {
      "cell_type": "markdown",
      "metadata": {},
      "source": [
        "*asses*"
      ]
    },
    {
      "cell_type": "code",
      "execution_count": 28,
      "metadata": {},
      "outputs": [
        {
          "name": "stdout",
          "output_type": "stream",
          "text": [
            "Train ROC AUC Score: 0.9963621399531182\n",
            "Test ROC AUC  Score: 0.740178559788619\n",
            "--------------------------------------------------------------------------------\n",
            "Baseline ROC AUC: 0.5\n",
            "--------------------------------------------------------------------------------\n",
            "              precision    recall  f1-score   support\n",
            "\n",
            "         0.0       0.96      0.90      0.93     38271\n",
            "         1.0       0.17      0.32      0.22      2335\n",
            "\n",
            "    accuracy                           0.87     40606\n",
            "   macro avg       0.56      0.61      0.57     40606\n",
            "weighted avg       0.91      0.87      0.89     40606\n",
            "\n",
            "--------------------------------------------------------------------------------\n",
            "--------------------------------------------------------------------------------\n"
          ]
        },
        {
          "data": {
            "image/png": "[encoded data removed]",
            "text/plain": [
              "<Figure size 640x480 with 2 Axes>"
            ]
          },
          "metadata": {},
          "output_type": "display_data"
        },
        {
          "data": {
            "image/png": "[encoded data removed]",
            "text/plain": [
              "<Figure size 800x600 with 1 Axes>"
            ]
          },
          "metadata": {},
          "output_type": "display_data"
        }
      ],
      "source": [
        "# adjust variables\n",
        "cm_rs = confusion_matrix(y_test, y_pred_rs)\n",
        "cm = cm_rs\n",
        "model = best_model\n",
        "y_pred = y_pred_rs\n",
        "\n",
        "# Make probability predictions\n",
        "X_train_probs = model.predict_proba(X_train)[:, 1]\n",
        "X_test_probs = model.predict_proba(X_test)[:, 1]\n",
        "\n",
        "X_train_predictions = model.predict(X_train)\n",
        "\n",
        "from sklearn.metrics import precision_score, recall_score, roc_auc_score, roc_curve\n",
        "\n",
        "print(f'Train ROC AUC Score: {roc_auc_score(y_train, X_train_probs)}')\n",
        "print(f'Test ROC AUC  Score: {roc_auc_score(y_test, X_test_probs)}')\n",
        "print(\"--------\"*10)\n",
        "print(f'Baseline ROC AUC: {roc_auc_score(y_test, [1 for _ in range(len(y_test))])}')\n",
        "print(\"--------\"*10)\n",
        "# Print classification report of our model\n",
        "print(classification_report(y_test, y_pred))\n",
        "print(\"--------\"*10)\n",
        "\n",
        "# Evaluate the model with a confusion matrix\n",
        "cm = confusion_matrix(y_test, y_pred)\n",
        "sns.heatmap(cm, cmap='YlGnBu', annot=True, fmt='d', linewidths=.5);\n",
        "\n",
        "\n",
        "from sklearn.ensemble import RandomForestClassifier\n",
        "from sklearn.metrics import precision_score, recall_score, roc_auc_score, roc_curve\n",
        "\n",
        "print(\"--------\"*10)\n",
        "# Plot formatting\n",
        "plt.style.use('fivethirtyeight')\n",
        "plt.rcParams['font.size'] = 18\n",
        "\n",
        "# Calculate false positive rates and true positive rates\n",
        "base_fpr, base_tpr, _ = roc_curve(y_test, [1 for _ in range(len(y_test))])\n",
        "model_fpr, model_tpr, _ = roc_curve(y_test, X_test_probs)\n",
        "\n",
        "plt.figure(figsize = (8, 6))\n",
        "plt.rcParams['font.size'] = 16\n",
        "    \n",
        "# Plot both curves\n",
        "plt.plot(base_fpr, base_tpr, 'b', label = 'baseline')\n",
        "plt.plot(model_fpr, model_tpr, 'r', label = 'model')\n",
        "plt.legend()\n",
        "plt.xlabel('False Positive Rate'); \n",
        "plt.ylabel('True Positive Rate'); plt.title('ROC Curves')\n",
        "plt.show()\n",
        "\n"
      ]
    },
    {
      "cell_type": "markdown",
      "metadata": {},
      "source": [
        "## linear regression"
      ]
    },
    {
      "cell_type": "code",
      "execution_count": null,
      "metadata": {},
      "outputs": [],
      "source": [
        "from sklearn.linear_model import LinearRegression\n",
        "lin_reg = LinearRegression()\n",
        "\n",
        "lin_reg.fit(X_train, y_train)\n",
        "y_pred_lr = lin_reg.predict(X_test)\n",
        "\n",
        "cm_lr = confusion_matrix(y_test, y_pred_rs)\n",
        "sns.heatmap(cm_lr, cmap='YlGnBu', annot=True, fmt='d', linewidths=.5);"
      ]
    },
    {
      "cell_type": "markdown",
      "metadata": {},
      "source": [
        "## logistic regression"
      ]
    },
    {
      "cell_type": "code",
      "execution_count": 24,
      "metadata": {},
      "outputs": [
        {
          "name": "stdout",
          "output_type": "stream",
          "text": [
            "Train ROC AUC Score: 0.6755576464337245\n",
            "Test ROC AUC  Score: 0.680308536713577\n",
            "--------------------------------------------------------------------------------\n",
            "Baseline ROC AUC: 0.5\n",
            "--------------------------------------------------------------------------------\n",
            "              precision    recall  f1-score   support\n",
            "\n",
            "         0.0       0.97      0.56      0.71     38271\n",
            "         1.0       0.09      0.70      0.16      2335\n",
            "\n",
            "    accuracy                           0.57     40606\n",
            "   macro avg       0.53      0.63      0.44     40606\n",
            "weighted avg       0.92      0.57      0.68     40606\n",
            "\n",
            "--------------------------------------------------------------------------------\n"
          ]
        },
        {
          "data": {
            "image/png": "[encoded data removed]",
            "text/plain": [
              "<Figure size 640x480 with 2 Axes>"
            ]
          },
          "metadata": {},
          "output_type": "display_data"
        },
        {
          "data": {
            "image/png": "[encoded data removed]",
            "text/plain": [
              "<Figure size 800x600 with 1 Axes>"
            ]
          },
          "metadata": {},
          "output_type": "display_data"
        }
      ],
      "source": [
        "from sklearn.linear_model import LogisticRegression\n",
        "lr = LogisticRegression()\n",
        "\n",
        "lr.fit(X_train, y_train)\n",
        "\n",
        "y_pred_lr = lr.predict(X_test)\n",
        "\n",
        "\n",
        "#sns.heatmap(cm_logr, cmap='YlGnBu', annot=True, fmt='d', linewidths=.5);\n",
        "\n",
        "# adjust variables\n",
        "cm_logr = confusion_matrix(y_test, y_pred)\n",
        "cm = cm_logr\n",
        "model = lr\n",
        "y_pred = y_pred_lr\n",
        "\n",
        "# Make probability predictions\n",
        "X_train_probs = model.predict_proba(X_train)[:, 1]\n",
        "X_test_probs = model.predict_proba(X_test)[:, 1]\n",
        "\n",
        "X_train_predictions = model.predict(X_train)\n",
        "\n",
        "from sklearn.metrics import precision_score, recall_score, roc_auc_score, roc_curve\n",
        "\n",
        "print(f'Train ROC AUC Score: {roc_auc_score(y_train, X_train_probs)}')\n",
        "print(f'Test ROC AUC  Score: {roc_auc_score(y_test, X_test_probs)}')\n",
        "print(\"--------\"*10)\n",
        "print(f'Baseline ROC AUC: {roc_auc_score(y_test, [1 for _ in range(len(y_test))])}')\n",
        "print(\"--------\"*10)\n",
        "# Print classification report of our model\n",
        "print(classification_report(y_test, y_pred))\n",
        "print(\"--------\"*10)\n",
        "\n",
        "# Evaluate the model with a confusion matrix\n",
        "cm = confusion_matrix(y_test, y_pred)\n",
        "sns.heatmap(cm, cmap='YlGnBu', annot=True, fmt='d', linewidths=.5);\n",
        "\n",
        "\n",
        "\n",
        "from sklearn.ensemble import RandomForestClassifier\n",
        "from sklearn.metrics import precision_score, recall_score, roc_auc_score, roc_curve\n",
        "\n",
        "\n",
        "# Plot formatting\n",
        "plt.style.use('fivethirtyeight')\n",
        "plt.rcParams['font.size'] = 18\n",
        "\n",
        "# Calculate false positive rates and true positive rates\n",
        "base_fpr, base_tpr, _ = roc_curve(y_test, [1 for _ in range(len(y_test))])\n",
        "model_fpr, model_tpr, _ = roc_curve(y_test, X_test_probs)\n",
        "\n",
        "plt.figure(figsize = (8, 6))\n",
        "plt.rcParams['font.size'] = 16\n",
        "    \n",
        "# Plot both curves\n",
        "plt.plot(base_fpr, base_tpr, 'b', label = 'baseline')\n",
        "plt.plot(model_fpr, model_tpr, 'r', label = 'model')\n",
        "plt.legend()\n",
        "plt.xlabel('False Positive Rate'); \n",
        "plt.ylabel('True Positive Rate'); plt.title('ROC Curves')\n",
        "plt.show()"
      ]
    },
    {
      "cell_type": "markdown",
      "metadata": {},
      "source": [
        "# Create Ouput file"
      ]
    },
    {
      "cell_type": "code",
      "execution_count": null,
      "metadata": {
        "colab": {
          "base_uri": "https://localhost:8080/",
          "height": 206
        },
        "id": "mX3rv6dwaw3-",
        "outputId": "6db1fc21-c545-4b99-a6f1-9357b2ef405d"
      },
      "outputs": [],
      "source": [
        "submission = pd.DataFrame(\n",
        "    {\n",
        "        'client_id': sub_client_id,\n",
        "        'target': preds['target']\n",
        "    }\n",
        ")\n",
        "\n",
        "submission.head()"
      ]
    },
    {
      "cell_type": "code",
      "execution_count": 132,
      "metadata": {
        "id": "O7_ANcWUboUB"
      },
      "outputs": [],
      "source": [
        "OUTPUT_DIR = \"data/output/\"\n",
        "submission.to_csv(f'{OUTPUT_DIR}/submission.csv', index=False)"
      ]
    },
    {
      "cell_type": "markdown",
      "metadata": {},
      "source": [
        "# Modules required"
      ]
    },
    {
      "cell_type": "code",
      "execution_count": null,
      "metadata": {},
      "outputs": [],
      "source": [
        "import numpy as np\n",
        "import pandas as pd\n",
        "import matplotlib.pyplot as plt\n",
        "%matplotlib inline\n",
        "import seaborn as sns"
      ]
    },
    {
      "cell_type": "markdown",
      "metadata": {
        "id": "Msm0u0WXdQ2l"
      },
      "source": [
        "## Tips \n",
        "- Thorough EDA and incorporating domain knowledge\n",
        "- Re-grouping categorical features\n",
        "- More feature engineering(try utilizing some date-time features)\n",
        "- Target balancing - oversampling, undersampling, SMOTE, scale_pos_weight\n",
        "- Model ensembling\n",
        "- Train-test split or cross-validation\n"
      ]
    },
    {
      "cell_type": "markdown",
      "metadata": {
        "id": "fgvYxyLXeEuU"
      },
      "source": [
        "# ******************* GOOD LUCK!!! ***************************"
      ]
    }
  ],
  "metadata": {
    "colab": {
      "provenance": []
    },
    "kernelspec": {
      "display_name": "Python 3",
      "name": "python3"
    },
    "language_info": {
      "codemirror_mode": {
        "name": "ipython",
        "version": 3
      },
      "file_extension": ".py",
      "mimetype": "text/x-python",
      "name": "python",
      "nbconvert_exporter": "python",
      "pygments_lexer": "ipython3",
      "version": "3.11.3"
    }
  },
  "nbformat": 4,
  "nbformat_minor": 0
}
